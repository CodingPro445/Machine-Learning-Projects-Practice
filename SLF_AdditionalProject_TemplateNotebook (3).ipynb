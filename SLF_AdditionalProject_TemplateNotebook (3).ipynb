{
 "cells": [
  {
   "cell_type": "markdown",
   "metadata": {
    "id": "jAvQdHlLv_cQ"
   },
   "source": [
    "# ShowTime Project\n",
    "\n",
    "## Context\n",
    "An over-the-top (OTT) media service is a media service offered directly to viewers via the internet. The term is most synonymous with subscription-based video-on-demand services that offer access to film and television content, including existing series acquired from other producers, as well as original content produced specifically for the service. They are typically accessed via websites on personal computers, apps on smartphones and tablets, or televisions with integrated Smart TV platforms.\n",
    "\n",
    "Presently, OTT services are at a relatively nascent stage and are widely accepted as a trending technology across the globe. With the increasing change in customers' social behavior, which is shifting from traditional subscriptions to broadcasting services and OTT on-demand video and music subscriptions every year, OTT streaming is expected to grow at a very fast pace. The global OTT market size was valued at 121.61 billion dollars in 2019 and is projected to reach 1,039.03 billion dollars by 2027, growing at a CAGR of 29.4% from 2020 to 2027. The shift from television to OTT services for entertainment is driven by benefits such as on-demand services, ease of access, and access to better networks and digital connectivity.\n",
    "\n",
    "With the outbreak of COVID19, OTT services are striving to meet the growing entertainment appetite of viewers, with some platforms already experiencing a 46% increase in consumption and subscriber count as viewers seek fresh content. With innovations and advanced transformations, which will enable the customers to access everything they want in a single space, OTT platforms across the world are expected to increasingly attract subscribers on a concurrent basis.\n",
    "\n",
    "## Objective\n",
    "ShowTime is an OTT service provider and offers a wide variety of content (movies, web shows, etc.) for its users. They want to determine the driver variables for first-day content viewership so that they can take necessary measures to improve the viewership of the content on their platform. Some of the reasons for the decline in viewership of content would be the decline in the number of people coming to the platform, decreased marketing spend, content timing clashes, weekends and holidays, etc. They have hired you as a Data Scientist, shared the data of the current content in their platform, and asked you to analyze the data and come up with a linear regression model to determine the driving factors for first-day viewership.\n",
    "\n",
    " \n",
    "\n",
    "## Data Description\n",
    "The data contains the different factors to analyze for the content. The detailed data dictionary is given below.\n",
    "\n",
    "**Data Dictionary**\n",
    "\n",
    "- visitors: Number of visitors, in millions, to the platform in the past week\n",
    "- ad_impressions: Number of ad impressions, in millions, across all ad campaigns for the content (running and completed)\n",
    "- major_sports_event: Any major sports event on the day\n",
    "- genre: Genre of the content\n",
    "- dayofweek: Day of the release of the content\n",
    "- season: Season of the release of the content\n",
    "- views_trailer: Number of views, in millions, of the content trailer\n",
    "- views_content: Number of first-day views, in millions, of the content"
   ]
  },
  {
   "cell_type": "markdown",
   "metadata": {
    "id": "GLmC-0-fDPyI"
   },
   "source": [
    "## Importing necessary libraries and data"
   ]
  },
  {
   "cell_type": "raw",
   "metadata": {
    "id": "zeF8YaNKDPyK"
   },
   "source": []
  },
  {
   "cell_type": "raw",
   "metadata": {},
   "source": []
  },
  {
   "cell_type": "code",
   "execution_count": 9,
   "metadata": {},
   "outputs": [
    {
     "name": "stderr",
     "output_type": "stream",
     "text": [
      "UsageError: Line magic function `%matplotlibinline` not found.\n"
     ]
    }
   ],
   "source": [
    "import numpy as np\n",
    "import pandas as pd\n",
    "import seaborn as sns\n",
    "import matplotlib.pyplot as plt\n",
    "import statsmodels.api as sm\n",
    "%matplotlibinline"
   ]
  },
  {
   "cell_type": "markdown",
   "metadata": {
    "id": "UvpMDcaaMKtI"
   },
   "source": [
    "## Data Overview\n",
    "\n",
    "- Observations\n",
    "- Sanity checks"
   ]
  },
  {
   "cell_type": "code",
   "execution_count": 10,
   "metadata": {
    "id": "01hJQ7EfMKtK"
   },
   "outputs": [
    {
     "data": {
      "text/html": [
       "<div>\n",
       "<style scoped>\n",
       "    .dataframe tbody tr th:only-of-type {\n",
       "        vertical-align: middle;\n",
       "    }\n",
       "\n",
       "    .dataframe tbody tr th {\n",
       "        vertical-align: top;\n",
       "    }\n",
       "\n",
       "    .dataframe thead th {\n",
       "        text-align: right;\n",
       "    }\n",
       "</style>\n",
       "<table border=\"1\" class=\"dataframe\">\n",
       "  <thead>\n",
       "    <tr style=\"text-align: right;\">\n",
       "      <th></th>\n",
       "      <th>visitors</th>\n",
       "      <th>ad_impressions</th>\n",
       "      <th>major_sports_event</th>\n",
       "      <th>views_trailer</th>\n",
       "      <th>views_content</th>\n",
       "    </tr>\n",
       "  </thead>\n",
       "  <tbody>\n",
       "    <tr>\n",
       "      <th>visitors</th>\n",
       "      <td>1.000000</td>\n",
       "      <td>0.030472</td>\n",
       "      <td>-0.039494</td>\n",
       "      <td>-0.028930</td>\n",
       "      <td>0.259136</td>\n",
       "    </tr>\n",
       "    <tr>\n",
       "      <th>ad_impressions</th>\n",
       "      <td>0.030472</td>\n",
       "      <td>1.000000</td>\n",
       "      <td>-0.034371</td>\n",
       "      <td>0.009446</td>\n",
       "      <td>0.050022</td>\n",
       "    </tr>\n",
       "    <tr>\n",
       "      <th>major_sports_event</th>\n",
       "      <td>-0.039494</td>\n",
       "      <td>-0.034371</td>\n",
       "      <td>1.000000</td>\n",
       "      <td>0.048630</td>\n",
       "      <td>-0.236014</td>\n",
       "    </tr>\n",
       "    <tr>\n",
       "      <th>views_trailer</th>\n",
       "      <td>-0.028930</td>\n",
       "      <td>0.009446</td>\n",
       "      <td>0.048630</td>\n",
       "      <td>1.000000</td>\n",
       "      <td>0.753962</td>\n",
       "    </tr>\n",
       "    <tr>\n",
       "      <th>views_content</th>\n",
       "      <td>0.259136</td>\n",
       "      <td>0.050022</td>\n",
       "      <td>-0.236014</td>\n",
       "      <td>0.753962</td>\n",
       "      <td>1.000000</td>\n",
       "    </tr>\n",
       "  </tbody>\n",
       "</table>\n",
       "</div>"
      ],
      "text/plain": [
       "                    visitors  ad_impressions  major_sports_event  \\\n",
       "visitors            1.000000        0.030472           -0.039494   \n",
       "ad_impressions      0.030472        1.000000           -0.034371   \n",
       "major_sports_event -0.039494       -0.034371            1.000000   \n",
       "views_trailer      -0.028930        0.009446            0.048630   \n",
       "views_content       0.259136        0.050022           -0.236014   \n",
       "\n",
       "                    views_trailer  views_content  \n",
       "visitors                -0.028930       0.259136  \n",
       "ad_impressions           0.009446       0.050022  \n",
       "major_sports_event       0.048630      -0.236014  \n",
       "views_trailer            1.000000       0.753962  \n",
       "views_content            0.753962       1.000000  "
      ]
     },
     "execution_count": 10,
     "metadata": {},
     "output_type": "execute_result"
    }
   ],
   "source": [
    "df = pd.read_csv(\"ottdata.csv\")\n",
    "df.isnull().sum()\n",
    "df.head()\n",
    "df.corr()"
   ]
  },
  {
   "cell_type": "markdown",
   "metadata": {
    "id": "__7ciGcIDPyk"
   },
   "source": [
    "## Exploratory Data Analysis (EDA)\n",
    "\n",
    "- EDA is an important part of any project involving data.\n",
    "- It is important to investigate and understand the data better before building a model with it.\n",
    "- A few questions have been mentioned below which will help you approach the analysis in the right manner and generate insights from the data.\n",
    "- A thorough analysis of the data, in addition to the questions mentioned below, should be done."
   ]
  },
  {
   "cell_type": "markdown",
   "metadata": {
    "id": "oEyqzdJBb0jU"
   },
   "source": [
    "**Questions**:\n",
    "\n",
    "1. What does the distribution of content views look like?\n",
    "2. What does the distribution of genres look like?\n",
    "3. The day of the week on which content is released generally plays a key role in the viewership. How does the viewership vary with the day of release?\n",
    "4. How does the viewership vary with the season of release?\n",
    "5. What is the correlation between trailer views and content views?"
   ]
  },
  {
   "cell_type": "code",
   "execution_count": 11,
   "metadata": {
    "id": "cN1lyueHttwW"
   },
   "outputs": [
    {
     "data": {
      "text/plain": [
       "<AxesSubplot:xlabel='views_trailer', ylabel='views_content'>"
      ]
     },
     "execution_count": 11,
     "metadata": {},
     "output_type": "execute_result"
    },
    {
     "data": {
      "image/png": "[encoded data removed]",
      "text/plain": [
       "<Figure size 432x288 with 1 Axes>"
      ]
     },
     "metadata": {
      "needs_background": "light"
     },
     "output_type": "display_data"
    }
   ],
   "source": [
    "\n",
    "df.corr()\n",
    "#sns.barplot(x=list(df['genre'].unique()),y=list(df['genre'].value_counts()))\n",
    "#sns.displot(df['views_content'])\n",
    "#sns.barplot(x=df['dayofweek'],y=df['visitors'])\n",
    "#sns.barplot(x=df['season'],y=df['visitors'])\n",
    "sns.lineplot(x=df['views_trailer'],y=df['views_content'])"
   ]
  },
  {
   "cell_type": "markdown",
   "metadata": {
    "id": "pVn5toJ7MKte"
   },
   "source": [
    "## Data Preprocessing\n",
    "\n",
    "- Missing value treatment\n",
    "- Feature engineering (if needed)\n",
    "- Outlier detection and treatment (if needed)\n",
    "- Preparing data for modeling\n",
    "- Any other preprocessing steps (if needed)"
   ]
  },
  {
   "cell_type": "code",
   "execution_count": 12,
   "metadata": {
    "id": "zUi6E9EUMKth"
   },
   "outputs": [
    {
     "data": {
      "text/plain": [
       "visitors              0\n",
       "ad_impressions        0\n",
       "major_sports_event    0\n",
       "genre                 0\n",
       "dayofweek             0\n",
       "season                0\n",
       "views_trailer         0\n",
       "views_content         0\n",
       "dtype: int64"
      ]
     },
     "execution_count": 12,
     "metadata": {},
     "output_type": "execute_result"
    }
   ],
   "source": [
    "df.isna().sum()"
   ]
  },
  {
   "cell_type": "code",
   "execution_count": 13,
   "metadata": {},
   "outputs": [],
   "source": [
    "medianFiller = lambda x: x.fillna(x.median())\n",
    "numeric_columns = df.select_dtypes(include=np.number).columns.tolist()\n",
    "df[numeric_columns] = df[numeric_columns].apply(medianFiller,axis=0)"
   ]
  },
  {
   "cell_type": "code",
   "execution_count": 14,
   "metadata": {},
   "outputs": [
    {
     "data": {
      "text/plain": [
       "visitors               56\n",
       "ad_impressions         80\n",
       "major_sports_event      2\n",
       "genre                   8\n",
       "dayofweek               7\n",
       "season                  4\n",
       "views_trailer         799\n",
       "views_content          61\n",
       "dtype: int64"
      ]
     },
     "execution_count": 14,
     "metadata": {},
     "output_type": "execute_result"
    }
   ],
   "source": [
    "df.nunique()"
   ]
  },
  {
   "cell_type": "code",
   "execution_count": 15,
   "metadata": {},
   "outputs": [
    {
     "data": {
      "text/html": [
       "<div>\n",
       "<style scoped>\n",
       "    .dataframe tbody tr th:only-of-type {\n",
       "        vertical-align: middle;\n",
       "    }\n",
       "\n",
       "    .dataframe tbody tr th {\n",
       "        vertical-align: top;\n",
       "    }\n",
       "\n",
       "    .dataframe thead th {\n",
       "        text-align: right;\n",
       "    }\n",
       "</style>\n",
       "<table border=\"1\" class=\"dataframe\">\n",
       "  <thead>\n",
       "    <tr style=\"text-align: right;\">\n",
       "      <th></th>\n",
       "      <th>count</th>\n",
       "      <th>unique</th>\n",
       "      <th>top</th>\n",
       "      <th>freq</th>\n",
       "      <th>mean</th>\n",
       "      <th>std</th>\n",
       "      <th>min</th>\n",
       "      <th>25%</th>\n",
       "      <th>50%</th>\n",
       "      <th>75%</th>\n",
       "      <th>max</th>\n",
       "    </tr>\n",
       "  </thead>\n",
       "  <tbody>\n",
       "    <tr>\n",
       "      <th>visitors</th>\n",
       "      <td>1000.000</td>\n",
       "      <td>NaN</td>\n",
       "      <td>NaN</td>\n",
       "      <td>NaN</td>\n",
       "      <td>1.704</td>\n",
       "      <td>0.232</td>\n",
       "      <td>1.250</td>\n",
       "      <td>1.550</td>\n",
       "      <td>1.700</td>\n",
       "      <td>1.830</td>\n",
       "      <td>2.340</td>\n",
       "    </tr>\n",
       "    <tr>\n",
       "      <th>ad_impressions</th>\n",
       "      <td>1000.000</td>\n",
       "      <td>NaN</td>\n",
       "      <td>NaN</td>\n",
       "      <td>NaN</td>\n",
       "      <td>1434.712</td>\n",
       "      <td>289.535</td>\n",
       "      <td>1010.870</td>\n",
       "      <td>1210.330</td>\n",
       "      <td>1383.580</td>\n",
       "      <td>1623.670</td>\n",
       "      <td>2424.200</td>\n",
       "    </tr>\n",
       "    <tr>\n",
       "      <th>major_sports_event</th>\n",
       "      <td>1000.000</td>\n",
       "      <td>NaN</td>\n",
       "      <td>NaN</td>\n",
       "      <td>NaN</td>\n",
       "      <td>0.400</td>\n",
       "      <td>0.490</td>\n",
       "      <td>0.000</td>\n",
       "      <td>0.000</td>\n",
       "      <td>0.000</td>\n",
       "      <td>1.000</td>\n",
       "      <td>1.000</td>\n",
       "    </tr>\n",
       "    <tr>\n",
       "      <th>genre</th>\n",
       "      <td>1000</td>\n",
       "      <td>8</td>\n",
       "      <td>Others</td>\n",
       "      <td>255</td>\n",
       "      <td>NaN</td>\n",
       "      <td>NaN</td>\n",
       "      <td>NaN</td>\n",
       "      <td>NaN</td>\n",
       "      <td>NaN</td>\n",
       "      <td>NaN</td>\n",
       "      <td>NaN</td>\n",
       "    </tr>\n",
       "    <tr>\n",
       "      <th>dayofweek</th>\n",
       "      <td>1000</td>\n",
       "      <td>7</td>\n",
       "      <td>Friday</td>\n",
       "      <td>369</td>\n",
       "      <td>NaN</td>\n",
       "      <td>NaN</td>\n",
       "      <td>NaN</td>\n",
       "      <td>NaN</td>\n",
       "      <td>NaN</td>\n",
       "      <td>NaN</td>\n",
       "      <td>NaN</td>\n",
       "    </tr>\n",
       "    <tr>\n",
       "      <th>season</th>\n",
       "      <td>1000</td>\n",
       "      <td>4</td>\n",
       "      <td>Winter</td>\n",
       "      <td>257</td>\n",
       "      <td>NaN</td>\n",
       "      <td>NaN</td>\n",
       "      <td>NaN</td>\n",
       "      <td>NaN</td>\n",
       "      <td>NaN</td>\n",
       "      <td>NaN</td>\n",
       "      <td>NaN</td>\n",
       "    </tr>\n",
       "    <tr>\n",
       "      <th>views_trailer</th>\n",
       "      <td>1000.000</td>\n",
       "      <td>NaN</td>\n",
       "      <td>NaN</td>\n",
       "      <td>NaN</td>\n",
       "      <td>66.916</td>\n",
       "      <td>35.001</td>\n",
       "      <td>30.080</td>\n",
       "      <td>50.948</td>\n",
       "      <td>53.960</td>\n",
       "      <td>57.755</td>\n",
       "      <td>199.920</td>\n",
       "    </tr>\n",
       "    <tr>\n",
       "      <th>views_content</th>\n",
       "      <td>1000.000</td>\n",
       "      <td>NaN</td>\n",
       "      <td>NaN</td>\n",
       "      <td>NaN</td>\n",
       "      <td>0.473</td>\n",
       "      <td>0.106</td>\n",
       "      <td>0.220</td>\n",
       "      <td>0.400</td>\n",
       "      <td>0.450</td>\n",
       "      <td>0.520</td>\n",
       "      <td>0.890</td>\n",
       "    </tr>\n",
       "  </tbody>\n",
       "</table>\n",
       "</div>"
      ],
      "text/plain": [
       "                      count unique     top freq     mean     std      min  \\\n",
       "visitors           1000.000    NaN     NaN  NaN    1.704   0.232    1.250   \n",
       "ad_impressions     1000.000    NaN     NaN  NaN 1434.712 289.535 1010.870   \n",
       "major_sports_event 1000.000    NaN     NaN  NaN    0.400   0.490    0.000   \n",
       "genre                  1000      8  Others  255      NaN     NaN      NaN   \n",
       "dayofweek              1000      7  Friday  369      NaN     NaN      NaN   \n",
       "season                 1000      4  Winter  257      NaN     NaN      NaN   \n",
       "views_trailer      1000.000    NaN     NaN  NaN   66.916  35.001   30.080   \n",
       "views_content      1000.000    NaN     NaN  NaN    0.473   0.106    0.220   \n",
       "\n",
       "                        25%      50%      75%      max  \n",
       "visitors              1.550    1.700    1.830    2.340  \n",
       "ad_impressions     1210.330 1383.580 1623.670 2424.200  \n",
       "major_sports_event    0.000    0.000    1.000    1.000  \n",
       "genre                   NaN      NaN      NaN      NaN  \n",
       "dayofweek               NaN      NaN      NaN      NaN  \n",
       "season                  NaN      NaN      NaN      NaN  \n",
       "views_trailer        50.948   53.960   57.755  199.920  \n",
       "views_content         0.400    0.450    0.520    0.890  "
      ]
     },
     "execution_count": 15,
     "metadata": {},
     "output_type": "execute_result"
    }
   ],
   "source": [
    "pd.set_option('display.float_format', lambda x: '%.3f' % x) # to display numbers in digits\n",
    "df.describe(include='all').T"
   ]
  },
  {
   "cell_type": "code",
   "execution_count": null,
   "metadata": {},
   "outputs": [],
   "source": []
  },
  {
   "cell_type": "markdown",
   "metadata": {
    "id": "KNzFis7eEaXj"
   },
   "source": [
    "## EDA\n",
    "\n",
    "- It is a good idea to explore the data once again after manipulating it."
   ]
  },
  {
   "cell_type": "code",
   "execution_count": 16,
   "metadata": {
    "id": "4lcDTGi9EZ1M"
   },
   "outputs": [
    {
     "data": {
      "text/html": [
       "<div>\n",
       "<style scoped>\n",
       "    .dataframe tbody tr th:only-of-type {\n",
       "        vertical-align: middle;\n",
       "    }\n",
       "\n",
       "    .dataframe tbody tr th {\n",
       "        vertical-align: top;\n",
       "    }\n",
       "\n",
       "    .dataframe thead th {\n",
       "        text-align: right;\n",
       "    }\n",
       "</style>\n",
       "<table border=\"1\" class=\"dataframe\">\n",
       "  <thead>\n",
       "    <tr style=\"text-align: right;\">\n",
       "      <th></th>\n",
       "      <th>visitors</th>\n",
       "      <th>ad_impressions</th>\n",
       "      <th>major_sports_event</th>\n",
       "      <th>views_trailer</th>\n",
       "      <th>views_content</th>\n",
       "    </tr>\n",
       "  </thead>\n",
       "  <tbody>\n",
       "    <tr>\n",
       "      <th>visitors</th>\n",
       "      <td>1.000</td>\n",
       "      <td>0.030</td>\n",
       "      <td>-0.039</td>\n",
       "      <td>-0.029</td>\n",
       "      <td>0.259</td>\n",
       "    </tr>\n",
       "    <tr>\n",
       "      <th>ad_impressions</th>\n",
       "      <td>0.030</td>\n",
       "      <td>1.000</td>\n",
       "      <td>-0.034</td>\n",
       "      <td>0.009</td>\n",
       "      <td>0.050</td>\n",
       "    </tr>\n",
       "    <tr>\n",
       "      <th>major_sports_event</th>\n",
       "      <td>-0.039</td>\n",
       "      <td>-0.034</td>\n",
       "      <td>1.000</td>\n",
       "      <td>0.049</td>\n",
       "      <td>-0.236</td>\n",
       "    </tr>\n",
       "    <tr>\n",
       "      <th>views_trailer</th>\n",
       "      <td>-0.029</td>\n",
       "      <td>0.009</td>\n",
       "      <td>0.049</td>\n",
       "      <td>1.000</td>\n",
       "      <td>0.754</td>\n",
       "    </tr>\n",
       "    <tr>\n",
       "      <th>views_content</th>\n",
       "      <td>0.259</td>\n",
       "      <td>0.050</td>\n",
       "      <td>-0.236</td>\n",
       "      <td>0.754</td>\n",
       "      <td>1.000</td>\n",
       "    </tr>\n",
       "  </tbody>\n",
       "</table>\n",
       "</div>"
      ],
      "text/plain": [
       "                    visitors  ad_impressions  major_sports_event  \\\n",
       "visitors               1.000           0.030              -0.039   \n",
       "ad_impressions         0.030           1.000              -0.034   \n",
       "major_sports_event    -0.039          -0.034               1.000   \n",
       "views_trailer         -0.029           0.009               0.049   \n",
       "views_content          0.259           0.050              -0.236   \n",
       "\n",
       "                    views_trailer  views_content  \n",
       "visitors                   -0.029          0.259  \n",
       "ad_impressions              0.009          0.050  \n",
       "major_sports_event          0.049         -0.236  \n",
       "views_trailer               1.000          0.754  \n",
       "views_content               0.754          1.000  "
      ]
     },
     "execution_count": 16,
     "metadata": {},
     "output_type": "execute_result"
    },
    {
     "data": {
      "image/png": "[encoded data removed]",
      "text/plain": [
       "<Figure size 432x288 with 1 Axes>"
      ]
     },
     "metadata": {
      "needs_background": "light"
     },
     "output_type": "display_data"
    }
   ],
   "source": [
    "sns.barplot(x=df['season'],y=df['visitors'])\n",
    "df.corr()"
   ]
  },
  {
   "cell_type": "code",
   "execution_count": 17,
   "metadata": {},
   "outputs": [],
   "source": [
    "def histogram_boxplot(feature, figsize=(15,10), bins = None):\n",
    "    \"\"\" Boxplot and histogram combined\n",
    "    feature: 1-d feature array\n",
    "    figsize: size of fig (default (9,8))\n",
    "    bins: number of bins (default None / auto)\n",
    "    \"\"\"\n",
    "    sns.set(font_scale=2) # setting the font scale  of the seaborn\n",
    "    f2, (ax_box2, ax_hist2) = plt.subplots(nrows = 2, # Number of rows of the subplot grid= 2\n",
    "                                           sharex = True, # x-axis will be shared among all subplots\n",
    "                                           gridspec_kw = {\"height_ratios\": (.25, .75)}, \n",
    "                                           figsize = figsize \n",
    "                                           ) # creating the 2 subplots\n",
    "    sns.boxplot(feature, ax=ax_box2, showmeans=True, color='red') # boxplot will be created and a star will indicate the mean value of the column\n",
    "    sns.distplot(feature, kde=F, ax=ax_hist2, bins=bins) if bins else sns.distplot(feature, kde=False, ax=ax_hist2) # For histogram\n",
    "    ax_hist2.axvline(feature.mean(), color='g', linestyle='--') # Add mean to the histogram\n",
    "    ax_hist2.axvline(feature.median(), color='black', linestyle='-') \n",
    "    "
   ]
  },
  {
   "cell_type": "code",
   "execution_count": 18,
   "metadata": {},
   "outputs": [
    {
     "name": "stderr",
     "output_type": "stream",
     "text": [
      "C:\\Users\\slowb\\PythonFolderAnaconda\\lib\\site-packages\\seaborn\\_decorators.py:36: FutureWarning: Pass the following variable as a keyword arg: x. From version 0.12, the only valid positional argument will be `data`, and passing other arguments without an explicit keyword will result in an error or misinterpretation.\n",
      "  warnings.warn(\n",
      "C:\\Users\\slowb\\PythonFolderAnaconda\\lib\\site-packages\\seaborn\\distributions.py:2619: FutureWarning: `distplot` is a deprecated function and will be removed in a future version. Please adapt your code to use either `displot` (a figure-level function with similar flexibility) or `histplot` (an axes-level function for histograms).\n",
      "  warnings.warn(msg, FutureWarning)\n"
     ]
    },
    {
     "data": {
      "image/png": "[encoded data removed]",
      "text/plain": [
       "<Figure size 1080x720 with 2 Axes>"
      ]
     },
     "metadata": {},
     "output_type": "display_data"
    }
   ],
   "source": [
    "histogram_boxplot(df.views_content)"
   ]
  },
  {
   "cell_type": "code",
   "execution_count": 19,
   "metadata": {},
   "outputs": [
    {
     "name": "stderr",
     "output_type": "stream",
     "text": [
      "C:\\Users\\slowb\\PythonFolderAnaconda\\lib\\site-packages\\seaborn\\_decorators.py:36: FutureWarning: Pass the following variable as a keyword arg: x. From version 0.12, the only valid positional argument will be `data`, and passing other arguments without an explicit keyword will result in an error or misinterpretation.\n",
      "  warnings.warn(\n",
      "C:\\Users\\slowb\\PythonFolderAnaconda\\lib\\site-packages\\seaborn\\distributions.py:2619: FutureWarning: `distplot` is a deprecated function and will be removed in a future version. Please adapt your code to use either `displot` (a figure-level function with similar flexibility) or `histplot` (an axes-level function for histograms).\n",
      "  warnings.warn(msg, FutureWarning)\n"
     ]
    },
    {
     "data": {
      "image/png": "[encoded data removed]",
      "text/plain": [
       "<Figure size 1080x720 with 2 Axes>"
      ]
     },
     "metadata": {},
     "output_type": "display_data"
    }
   ],
   "source": [
    "histogram_boxplot(df.views_trailer)"
   ]
  },
  {
   "cell_type": "code",
   "execution_count": 20,
   "metadata": {},
   "outputs": [
    {
     "data": {
      "text/html": [
       "<div>\n",
       "<style scoped>\n",
       "    .dataframe tbody tr th:only-of-type {\n",
       "        vertical-align: middle;\n",
       "    }\n",
       "\n",
       "    .dataframe tbody tr th {\n",
       "        vertical-align: top;\n",
       "    }\n",
       "\n",
       "    .dataframe thead th {\n",
       "        text-align: right;\n",
       "    }\n",
       "</style>\n",
       "<table border=\"1\" class=\"dataframe\">\n",
       "  <thead>\n",
       "    <tr style=\"text-align: right;\">\n",
       "      <th></th>\n",
       "      <th>visitors</th>\n",
       "      <th>ad_impressions</th>\n",
       "      <th>major_sports_event</th>\n",
       "      <th>genre</th>\n",
       "      <th>dayofweek</th>\n",
       "      <th>season</th>\n",
       "      <th>views_trailer</th>\n",
       "      <th>views_content</th>\n",
       "    </tr>\n",
       "  </thead>\n",
       "  <tbody>\n",
       "    <tr>\n",
       "      <th>0</th>\n",
       "      <td>1.670</td>\n",
       "      <td>1113.810</td>\n",
       "      <td>0</td>\n",
       "      <td>Horror</td>\n",
       "      <td>Wednesday</td>\n",
       "      <td>Spring</td>\n",
       "      <td>56.700</td>\n",
       "      <td>0.510</td>\n",
       "    </tr>\n",
       "    <tr>\n",
       "      <th>1</th>\n",
       "      <td>1.460</td>\n",
       "      <td>1498.410</td>\n",
       "      <td>1</td>\n",
       "      <td>Thriller</td>\n",
       "      <td>Friday</td>\n",
       "      <td>Fall</td>\n",
       "      <td>52.690</td>\n",
       "      <td>0.320</td>\n",
       "    </tr>\n",
       "    <tr>\n",
       "      <th>2</th>\n",
       "      <td>1.470</td>\n",
       "      <td>1079.190</td>\n",
       "      <td>1</td>\n",
       "      <td>Thriller</td>\n",
       "      <td>Wednesday</td>\n",
       "      <td>Fall</td>\n",
       "      <td>48.740</td>\n",
       "      <td>0.390</td>\n",
       "    </tr>\n",
       "    <tr>\n",
       "      <th>3</th>\n",
       "      <td>1.850</td>\n",
       "      <td>1342.770</td>\n",
       "      <td>1</td>\n",
       "      <td>Sci-Fi</td>\n",
       "      <td>Friday</td>\n",
       "      <td>Fall</td>\n",
       "      <td>49.810</td>\n",
       "      <td>0.440</td>\n",
       "    </tr>\n",
       "    <tr>\n",
       "      <th>4</th>\n",
       "      <td>1.460</td>\n",
       "      <td>1498.410</td>\n",
       "      <td>0</td>\n",
       "      <td>Sci-Fi</td>\n",
       "      <td>Sunday</td>\n",
       "      <td>Winter</td>\n",
       "      <td>55.830</td>\n",
       "      <td>0.460</td>\n",
       "    </tr>\n",
       "  </tbody>\n",
       "</table>\n",
       "</div>"
      ],
      "text/plain": [
       "   visitors  ad_impressions  major_sports_event     genre  dayofweek  season  \\\n",
       "0     1.670        1113.810                   0    Horror  Wednesday  Spring   \n",
       "1     1.460        1498.410                   1  Thriller     Friday    Fall   \n",
       "2     1.470        1079.190                   1  Thriller  Wednesday    Fall   \n",
       "3     1.850        1342.770                   1    Sci-Fi     Friday    Fall   \n",
       "4     1.460        1498.410                   0    Sci-Fi     Sunday  Winter   \n",
       "\n",
       "   views_trailer  views_content  \n",
       "0         56.700          0.510  \n",
       "1         52.690          0.320  \n",
       "2         48.740          0.390  \n",
       "3         49.810          0.440  \n",
       "4         55.830          0.460  "
      ]
     },
     "execution_count": 20,
     "metadata": {},
     "output_type": "execute_result"
    }
   ],
   "source": [
    "df.head()"
   ]
  },
  {
   "cell_type": "code",
   "execution_count": 21,
   "metadata": {},
   "outputs": [
    {
     "data": {
      "image/png": "[encoded data removed]",
      "text/plain": [
       "<Figure size 1224x5400 with 5 Axes>"
      ]
     },
     "metadata": {},
     "output_type": "display_data"
    }
   ],
   "source": [
    "#major_sports_event      2\n",
    "#genre                   8\n",
    "#dayofweek               7\n",
    "#season                  4\n",
    "from scipy.stats import norm\n",
    "all_col = df.select_dtypes(include=np.number).columns.tolist()\n",
    "#all_col.remove('major_sports_event')\n",
    "#all_col.remove('genre')\n",
    "#all_col.remove('dayofweek')\n",
    "#all_col.remove('season')\n",
    "plt.figure(figsize=(17,75))\n",
    "\n",
    "for i in range(len(all_col)):\n",
    "    plt.subplot(18,3,i+1)\n",
    "    plt.hist(df[all_col[i]])\n",
    "    #sns.histplot(df[all_col[i]], kde=True)   #you can comment the previous line and run this one to get distribution curves too\n",
    "    plt.tight_layout()\n",
    "    plt.title(all_col[i],fontsize=25)\n",
    "    \n",
    "\n",
    "plt.show()"
   ]
  },
  {
   "cell_type": "code",
   "execution_count": 22,
   "metadata": {},
   "outputs": [
    {
     "data": {
      "image/png": "[encoded data removed]",
      "text/plain": [
       "<Figure size 1440x2160 with 5 Axes>"
      ]
     },
     "metadata": {},
     "output_type": "display_data"
    }
   ],
   "source": [
    "# lets plot the boxplots of all columns to check for outliers\n",
    "plt.figure(figsize=(20,30))\n",
    "\n",
    "for i, variable in enumerate(numeric_columns):\n",
    "                     plt.subplot(5,4,i+1)\n",
    "                     plt.boxplot(df[variable],whis=1.5)\n",
    "                     plt.tight_layout()\n",
    "                     plt.title(variable)\n",
    "\n",
    "plt.show()"
   ]
  },
  {
   "cell_type": "markdown",
   "metadata": {
    "id": "x9Ycp1rkDPzL"
   },
   "source": [
    "## Building a Linear Regression model"
   ]
  },
  {
   "cell_type": "code",
   "execution_count": 23,
   "metadata": {},
   "outputs": [],
   "source": [
    "# Lets treat outliers by flooring and capping\n",
    "def treat_outliers(df,col):\n",
    "    '''\n",
    "    treats outliers in a varaible\n",
    "    col: str, name of the numerical varaible\n",
    "    df: data frame\n",
    "    col: name of the column\n",
    "    '''\n",
    "    Q1=df[col].quantile(0.25) # 25th quantile\n",
    "    Q3=df[col].quantile(0.75)  # 75th quantile\n",
    "    IQR=Q3-Q1\n",
    "    Lower_Whisker = Q1 - 1.5*IQR \n",
    "    Upper_Whisker = Q3 + 1.5*IQR\n",
    "    df[col] = np.clip(df[col], Lower_Whisker, Upper_Whisker) # all the values samller than Lower_Whisker will be assigned value of Lower_whisker \n",
    "                                                            # and all the values above upper_whishker will be assigned value of upper_Whisker \n",
    "    return df\n",
    "\n",
    "def treat_outliers_all(df, col_list):\n",
    "    '''\n",
    "    treat outlier in all numerical varaibles\n",
    "    col_list: list of numerical varaibles\n",
    "    df: data frame\n",
    "    '''\n",
    "    for c in col_list:\n",
    "        df = treat_outliers(df,c)\n",
    "        \n",
    "    return df\n",
    "    "
   ]
  },
  {
   "cell_type": "code",
   "execution_count": 24,
   "metadata": {},
   "outputs": [],
   "source": [
    "numerical_col = df.select_dtypes(include=np.number).columns.tolist()\n",
    "df = treat_outliers_all(df,numerical_col)"
   ]
  },
  {
   "cell_type": "code",
   "execution_count": 25,
   "metadata": {},
   "outputs": [
    {
     "data": {
      "image/png": "[encoded data removed]",
      "text/plain": [
       "<Figure size 1440x2160 with 5 Axes>"
      ]
     },
     "metadata": {},
     "output_type": "display_data"
    }
   ],
   "source": [
    "# lets look at box plot to see if outliers has been treated or not\n",
    "plt.figure(figsize=(20,30))\n",
    "\n",
    "for i, variable in enumerate(numeric_columns):\n",
    "                     plt.subplot(5,4,i+1)\n",
    "                     plt.boxplot(df[variable],whis=1.5)\n",
    "                     plt.tight_layout()\n",
    "                     plt.title(variable)\n",
    "\n",
    "plt.show()"
   ]
  },
  {
   "cell_type": "code",
   "execution_count": 26,
   "metadata": {
    "scrolled": false
   },
   "outputs": [
    {
     "data": {
      "text/html": [
       "<div>\n",
       "<style scoped>\n",
       "    .dataframe tbody tr th:only-of-type {\n",
       "        vertical-align: middle;\n",
       "    }\n",
       "\n",
       "    .dataframe tbody tr th {\n",
       "        vertical-align: top;\n",
       "    }\n",
       "\n",
       "    .dataframe thead th {\n",
       "        text-align: right;\n",
       "    }\n",
       "</style>\n",
       "<table border=\"1\" class=\"dataframe\">\n",
       "  <thead>\n",
       "    <tr style=\"text-align: right;\">\n",
       "      <th></th>\n",
       "      <th>visitors</th>\n",
       "      <th>ad_impressions</th>\n",
       "      <th>major_sports_event</th>\n",
       "      <th>genre</th>\n",
       "      <th>dayofweek</th>\n",
       "      <th>season</th>\n",
       "      <th>views_trailer</th>\n",
       "      <th>views_content</th>\n",
       "    </tr>\n",
       "  </thead>\n",
       "  <tbody>\n",
       "    <tr>\n",
       "      <th>0</th>\n",
       "      <td>1.670</td>\n",
       "      <td>1113.810</td>\n",
       "      <td>0</td>\n",
       "      <td>Horror</td>\n",
       "      <td>Wednesday</td>\n",
       "      <td>Spring</td>\n",
       "      <td>56.700</td>\n",
       "      <td>0.510</td>\n",
       "    </tr>\n",
       "    <tr>\n",
       "      <th>1</th>\n",
       "      <td>1.460</td>\n",
       "      <td>1498.410</td>\n",
       "      <td>1</td>\n",
       "      <td>Thriller</td>\n",
       "      <td>Friday</td>\n",
       "      <td>Fall</td>\n",
       "      <td>52.690</td>\n",
       "      <td>0.320</td>\n",
       "    </tr>\n",
       "    <tr>\n",
       "      <th>2</th>\n",
       "      <td>1.470</td>\n",
       "      <td>1079.190</td>\n",
       "      <td>1</td>\n",
       "      <td>Thriller</td>\n",
       "      <td>Wednesday</td>\n",
       "      <td>Fall</td>\n",
       "      <td>48.740</td>\n",
       "      <td>0.390</td>\n",
       "    </tr>\n",
       "    <tr>\n",
       "      <th>3</th>\n",
       "      <td>1.850</td>\n",
       "      <td>1342.770</td>\n",
       "      <td>1</td>\n",
       "      <td>Sci-Fi</td>\n",
       "      <td>Friday</td>\n",
       "      <td>Fall</td>\n",
       "      <td>49.810</td>\n",
       "      <td>0.440</td>\n",
       "    </tr>\n",
       "    <tr>\n",
       "      <th>4</th>\n",
       "      <td>1.460</td>\n",
       "      <td>1498.410</td>\n",
       "      <td>0</td>\n",
       "      <td>Sci-Fi</td>\n",
       "      <td>Sunday</td>\n",
       "      <td>Winter</td>\n",
       "      <td>55.830</td>\n",
       "      <td>0.460</td>\n",
       "    </tr>\n",
       "  </tbody>\n",
       "</table>\n",
       "</div>"
      ],
      "text/plain": [
       "   visitors  ad_impressions  major_sports_event     genre  dayofweek  season  \\\n",
       "0     1.670        1113.810                   0    Horror  Wednesday  Spring   \n",
       "1     1.460        1498.410                   1  Thriller     Friday    Fall   \n",
       "2     1.470        1079.190                   1  Thriller  Wednesday    Fall   \n",
       "3     1.850        1342.770                   1    Sci-Fi     Friday    Fall   \n",
       "4     1.460        1498.410                   0    Sci-Fi     Sunday  Winter   \n",
       "\n",
       "   views_trailer  views_content  \n",
       "0         56.700          0.510  \n",
       "1         52.690          0.320  \n",
       "2         48.740          0.390  \n",
       "3         49.810          0.440  \n",
       "4         55.830          0.460  "
      ]
     },
     "execution_count": 26,
     "metadata": {},
     "output_type": "execute_result"
    }
   ],
   "source": [
    "df.head()"
   ]
  },
  {
   "cell_type": "code",
   "execution_count": 27,
   "metadata": {
    "scrolled": false
   },
   "outputs": [
    {
     "name": "stdout",
     "output_type": "stream",
     "text": [
      "   visitors  ad_impressions  dayofweek  season  views_trailer\n",
      "0     1.670        1113.810  Wednesday  Spring         56.700\n",
      "1     1.460        1498.410     Friday    Fall         52.690\n",
      "2     1.470        1079.190  Wednesday    Fall         48.740\n",
      "3     1.850        1342.770     Friday    Fall         49.810\n",
      "4     1.460        1498.410     Sunday  Winter         55.830\n",
      "0   0.510\n",
      "1   0.320\n",
      "2   0.390\n",
      "3   0.440\n",
      "4   0.460\n",
      "Name: views_content, dtype: float64\n"
     ]
    }
   ],
   "source": [
    "X = df.drop(['views_content', 'genre', 'major_sports_event'], axis=1)\n",
    "y = df['views_content']\n",
    "\n",
    "print(X.head())\n",
    "print(y.head())"
   ]
  },
  {
   "cell_type": "code",
   "execution_count": 28,
   "metadata": {
    "scrolled": false
   },
   "outputs": [
    {
     "name": "stdout",
     "output_type": "stream",
     "text": [
      "(1000, 5)\n",
      "(1000,)\n"
     ]
    }
   ],
   "source": [
    "print(X.shape)\n",
    "print(y.shape)"
   ]
  },
  {
   "cell_type": "code",
   "execution_count": 29,
   "metadata": {
    "scrolled": true
   },
   "outputs": [
    {
     "data": {
      "text/html": [
       "<div>\n",
       "<style scoped>\n",
       "    .dataframe tbody tr th:only-of-type {\n",
       "        vertical-align: middle;\n",
       "    }\n",
       "\n",
       "    .dataframe tbody tr th {\n",
       "        vertical-align: top;\n",
       "    }\n",
       "\n",
       "    .dataframe thead th {\n",
       "        text-align: right;\n",
       "    }\n",
       "</style>\n",
       "<table border=\"1\" class=\"dataframe\">\n",
       "  <thead>\n",
       "    <tr style=\"text-align: right;\">\n",
       "      <th></th>\n",
       "      <th>visitors</th>\n",
       "      <th>ad_impressions</th>\n",
       "      <th>major_sports_event</th>\n",
       "      <th>genre</th>\n",
       "      <th>dayofweek</th>\n",
       "      <th>season</th>\n",
       "      <th>views_trailer</th>\n",
       "      <th>views_content</th>\n",
       "    </tr>\n",
       "  </thead>\n",
       "  <tbody>\n",
       "    <tr>\n",
       "      <th>0</th>\n",
       "      <td>1.670</td>\n",
       "      <td>1113.810</td>\n",
       "      <td>0</td>\n",
       "      <td>Horror</td>\n",
       "      <td>Wednesday</td>\n",
       "      <td>Spring</td>\n",
       "      <td>56.700</td>\n",
       "      <td>0.510</td>\n",
       "    </tr>\n",
       "    <tr>\n",
       "      <th>1</th>\n",
       "      <td>1.460</td>\n",
       "      <td>1498.410</td>\n",
       "      <td>1</td>\n",
       "      <td>Thriller</td>\n",
       "      <td>Friday</td>\n",
       "      <td>Fall</td>\n",
       "      <td>52.690</td>\n",
       "      <td>0.320</td>\n",
       "    </tr>\n",
       "    <tr>\n",
       "      <th>2</th>\n",
       "      <td>1.470</td>\n",
       "      <td>1079.190</td>\n",
       "      <td>1</td>\n",
       "      <td>Thriller</td>\n",
       "      <td>Wednesday</td>\n",
       "      <td>Fall</td>\n",
       "      <td>48.740</td>\n",
       "      <td>0.390</td>\n",
       "    </tr>\n",
       "    <tr>\n",
       "      <th>3</th>\n",
       "      <td>1.850</td>\n",
       "      <td>1342.770</td>\n",
       "      <td>1</td>\n",
       "      <td>Sci-Fi</td>\n",
       "      <td>Friday</td>\n",
       "      <td>Fall</td>\n",
       "      <td>49.810</td>\n",
       "      <td>0.440</td>\n",
       "    </tr>\n",
       "    <tr>\n",
       "      <th>4</th>\n",
       "      <td>1.460</td>\n",
       "      <td>1498.410</td>\n",
       "      <td>0</td>\n",
       "      <td>Sci-Fi</td>\n",
       "      <td>Sunday</td>\n",
       "      <td>Winter</td>\n",
       "      <td>55.830</td>\n",
       "      <td>0.460</td>\n",
       "    </tr>\n",
       "  </tbody>\n",
       "</table>\n",
       "</div>"
      ],
      "text/plain": [
       "   visitors  ad_impressions  major_sports_event     genre  dayofweek  season  \\\n",
       "0     1.670        1113.810                   0    Horror  Wednesday  Spring   \n",
       "1     1.460        1498.410                   1  Thriller     Friday    Fall   \n",
       "2     1.470        1079.190                   1  Thriller  Wednesday    Fall   \n",
       "3     1.850        1342.770                   1    Sci-Fi     Friday    Fall   \n",
       "4     1.460        1498.410                   0    Sci-Fi     Sunday  Winter   \n",
       "\n",
       "   views_trailer  views_content  \n",
       "0         56.700          0.510  \n",
       "1         52.690          0.320  \n",
       "2         48.740          0.390  \n",
       "3         49.810          0.440  \n",
       "4         55.830          0.460  "
      ]
     },
     "execution_count": 29,
     "metadata": {},
     "output_type": "execute_result"
    }
   ],
   "source": [
    "df.head()"
   ]
  },
  {
   "cell_type": "code",
   "execution_count": 30,
   "metadata": {
    "scrolled": false
   },
   "outputs": [
    {
     "data": {
      "text/html": [
       "<div>\n",
       "<style scoped>\n",
       "    .dataframe tbody tr th:only-of-type {\n",
       "        vertical-align: middle;\n",
       "    }\n",
       "\n",
       "    .dataframe tbody tr th {\n",
       "        vertical-align: top;\n",
       "    }\n",
       "\n",
       "    .dataframe thead th {\n",
       "        text-align: right;\n",
       "    }\n",
       "</style>\n",
       "<table border=\"1\" class=\"dataframe\">\n",
       "  <thead>\n",
       "    <tr style=\"text-align: right;\">\n",
       "      <th></th>\n",
       "      <th>visitors</th>\n",
       "      <th>ad_impressions</th>\n",
       "      <th>views_trailer</th>\n",
       "      <th>dayofweek_Monday</th>\n",
       "      <th>dayofweek_Saturday</th>\n",
       "      <th>dayofweek_Sunday</th>\n",
       "      <th>dayofweek_Thursday</th>\n",
       "      <th>dayofweek_Tuesday</th>\n",
       "      <th>dayofweek_Wednesday</th>\n",
       "      <th>season_Spring</th>\n",
       "      <th>season_Summer</th>\n",
       "      <th>season_Winter</th>\n",
       "    </tr>\n",
       "  </thead>\n",
       "  <tbody>\n",
       "    <tr>\n",
       "      <th>0</th>\n",
       "      <td>1.670</td>\n",
       "      <td>1113.810</td>\n",
       "      <td>56.700</td>\n",
       "      <td>0</td>\n",
       "      <td>0</td>\n",
       "      <td>0</td>\n",
       "      <td>0</td>\n",
       "      <td>0</td>\n",
       "      <td>1</td>\n",
       "      <td>1</td>\n",
       "      <td>0</td>\n",
       "      <td>0</td>\n",
       "    </tr>\n",
       "    <tr>\n",
       "      <th>1</th>\n",
       "      <td>1.460</td>\n",
       "      <td>1498.410</td>\n",
       "      <td>52.690</td>\n",
       "      <td>0</td>\n",
       "      <td>0</td>\n",
       "      <td>0</td>\n",
       "      <td>0</td>\n",
       "      <td>0</td>\n",
       "      <td>0</td>\n",
       "      <td>0</td>\n",
       "      <td>0</td>\n",
       "      <td>0</td>\n",
       "    </tr>\n",
       "    <tr>\n",
       "      <th>2</th>\n",
       "      <td>1.470</td>\n",
       "      <td>1079.190</td>\n",
       "      <td>48.740</td>\n",
       "      <td>0</td>\n",
       "      <td>0</td>\n",
       "      <td>0</td>\n",
       "      <td>0</td>\n",
       "      <td>0</td>\n",
       "      <td>1</td>\n",
       "      <td>0</td>\n",
       "      <td>0</td>\n",
       "      <td>0</td>\n",
       "    </tr>\n",
       "    <tr>\n",
       "      <th>3</th>\n",
       "      <td>1.850</td>\n",
       "      <td>1342.770</td>\n",
       "      <td>49.810</td>\n",
       "      <td>0</td>\n",
       "      <td>0</td>\n",
       "      <td>0</td>\n",
       "      <td>0</td>\n",
       "      <td>0</td>\n",
       "      <td>0</td>\n",
       "      <td>0</td>\n",
       "      <td>0</td>\n",
       "      <td>0</td>\n",
       "    </tr>\n",
       "    <tr>\n",
       "      <th>4</th>\n",
       "      <td>1.460</td>\n",
       "      <td>1498.410</td>\n",
       "      <td>55.830</td>\n",
       "      <td>0</td>\n",
       "      <td>0</td>\n",
       "      <td>1</td>\n",
       "      <td>0</td>\n",
       "      <td>0</td>\n",
       "      <td>0</td>\n",
       "      <td>0</td>\n",
       "      <td>0</td>\n",
       "      <td>1</td>\n",
       "    </tr>\n",
       "  </tbody>\n",
       "</table>\n",
       "</div>"
      ],
      "text/plain": [
       "   visitors  ad_impressions  views_trailer  dayofweek_Monday  \\\n",
       "0     1.670        1113.810         56.700                 0   \n",
       "1     1.460        1498.410         52.690                 0   \n",
       "2     1.470        1079.190         48.740                 0   \n",
       "3     1.850        1342.770         49.810                 0   \n",
       "4     1.460        1498.410         55.830                 0   \n",
       "\n",
       "   dayofweek_Saturday  dayofweek_Sunday  dayofweek_Thursday  \\\n",
       "0                   0                 0                   0   \n",
       "1                   0                 0                   0   \n",
       "2                   0                 0                   0   \n",
       "3                   0                 0                   0   \n",
       "4                   0                 1                   0   \n",
       "\n",
       "   dayofweek_Tuesday  dayofweek_Wednesday  season_Spring  season_Summer  \\\n",
       "0                  0                    1              1              0   \n",
       "1                  0                    0              0              0   \n",
       "2                  0                    1              0              0   \n",
       "3                  0                    0              0              0   \n",
       "4                  0                    0              0              0   \n",
       "\n",
       "   season_Winter  \n",
       "0              0  \n",
       "1              0  \n",
       "2              0  \n",
       "3              0  \n",
       "4              1  "
      ]
     },
     "execution_count": 30,
     "metadata": {},
     "output_type": "execute_result"
    }
   ],
   "source": [
    "X = pd.get_dummies(X, columns=['dayofweek', 'season'], drop_first=True)\n",
    "X.head()"
   ]
  },
  {
   "cell_type": "code",
   "execution_count": 31,
   "metadata": {
    "id": "ZNRiMg0wMKth"
   },
   "outputs": [],
   "source": [
    "from sklearn.model_selection import train_test_split\n",
    "X_train, X_test, y_train, y_test = train_test_split(X, y, test_size=0.3, random_state=42)\n",
    "#from sklearn.linear_model import LinearRegression\n",
    "#lm = LinearRegression()\n",
    "#lm.fit(X_train,y_train)\n",
    "#predictions=lm.predict(X_test)"
   ]
  },
  {
   "cell_type": "code",
   "execution_count": 32,
   "metadata": {
    "scrolled": true
   },
   "outputs": [
    {
     "data": {
      "text/html": [
       "<div>\n",
       "<style scoped>\n",
       "    .dataframe tbody tr th:only-of-type {\n",
       "        vertical-align: middle;\n",
       "    }\n",
       "\n",
       "    .dataframe tbody tr th {\n",
       "        vertical-align: top;\n",
       "    }\n",
       "\n",
       "    .dataframe thead th {\n",
       "        text-align: right;\n",
       "    }\n",
       "</style>\n",
       "<table border=\"1\" class=\"dataframe\">\n",
       "  <thead>\n",
       "    <tr style=\"text-align: right;\">\n",
       "      <th></th>\n",
       "      <th>visitors</th>\n",
       "      <th>ad_impressions</th>\n",
       "      <th>views_trailer</th>\n",
       "      <th>dayofweek_Monday</th>\n",
       "      <th>dayofweek_Saturday</th>\n",
       "      <th>dayofweek_Sunday</th>\n",
       "      <th>dayofweek_Thursday</th>\n",
       "      <th>dayofweek_Tuesday</th>\n",
       "      <th>dayofweek_Wednesday</th>\n",
       "      <th>season_Spring</th>\n",
       "      <th>season_Summer</th>\n",
       "      <th>season_Winter</th>\n",
       "    </tr>\n",
       "  </thead>\n",
       "  <tbody>\n",
       "    <tr>\n",
       "      <th>541</th>\n",
       "      <td>2.140</td>\n",
       "      <td>1113.810</td>\n",
       "      <td>50.780</td>\n",
       "      <td>0</td>\n",
       "      <td>0</td>\n",
       "      <td>0</td>\n",
       "      <td>0</td>\n",
       "      <td>0</td>\n",
       "      <td>0</td>\n",
       "      <td>0</td>\n",
       "      <td>0</td>\n",
       "      <td>1</td>\n",
       "    </tr>\n",
       "    <tr>\n",
       "      <th>440</th>\n",
       "      <td>1.690</td>\n",
       "      <td>1079.190</td>\n",
       "      <td>67.966</td>\n",
       "      <td>0</td>\n",
       "      <td>0</td>\n",
       "      <td>0</td>\n",
       "      <td>0</td>\n",
       "      <td>0</td>\n",
       "      <td>0</td>\n",
       "      <td>0</td>\n",
       "      <td>0</td>\n",
       "      <td>1</td>\n",
       "    </tr>\n",
       "    <tr>\n",
       "      <th>482</th>\n",
       "      <td>1.930</td>\n",
       "      <td>1357.740</td>\n",
       "      <td>50.740</td>\n",
       "      <td>0</td>\n",
       "      <td>0</td>\n",
       "      <td>0</td>\n",
       "      <td>0</td>\n",
       "      <td>0</td>\n",
       "      <td>0</td>\n",
       "      <td>0</td>\n",
       "      <td>0</td>\n",
       "      <td>0</td>\n",
       "    </tr>\n",
       "    <tr>\n",
       "      <th>422</th>\n",
       "      <td>1.570</td>\n",
       "      <td>1557.200</td>\n",
       "      <td>47.910</td>\n",
       "      <td>0</td>\n",
       "      <td>0</td>\n",
       "      <td>0</td>\n",
       "      <td>0</td>\n",
       "      <td>0</td>\n",
       "      <td>0</td>\n",
       "      <td>0</td>\n",
       "      <td>1</td>\n",
       "      <td>0</td>\n",
       "    </tr>\n",
       "    <tr>\n",
       "      <th>778</th>\n",
       "      <td>1.540</td>\n",
       "      <td>1231.300</td>\n",
       "      <td>58.010</td>\n",
       "      <td>0</td>\n",
       "      <td>0</td>\n",
       "      <td>0</td>\n",
       "      <td>0</td>\n",
       "      <td>0</td>\n",
       "      <td>1</td>\n",
       "      <td>0</td>\n",
       "      <td>0</td>\n",
       "      <td>1</td>\n",
       "    </tr>\n",
       "  </tbody>\n",
       "</table>\n",
       "</div>"
      ],
      "text/plain": [
       "     visitors  ad_impressions  views_trailer  dayofweek_Monday  \\\n",
       "541     2.140        1113.810         50.780                 0   \n",
       "440     1.690        1079.190         67.966                 0   \n",
       "482     1.930        1357.740         50.740                 0   \n",
       "422     1.570        1557.200         47.910                 0   \n",
       "778     1.540        1231.300         58.010                 0   \n",
       "\n",
       "     dayofweek_Saturday  dayofweek_Sunday  dayofweek_Thursday  \\\n",
       "541                   0                 0                   0   \n",
       "440                   0                 0                   0   \n",
       "482                   0                 0                   0   \n",
       "422                   0                 0                   0   \n",
       "778                   0                 0                   0   \n",
       "\n",
       "     dayofweek_Tuesday  dayofweek_Wednesday  season_Spring  season_Summer  \\\n",
       "541                  0                    0              0              0   \n",
       "440                  0                    0              0              0   \n",
       "482                  0                    0              0              0   \n",
       "422                  0                    0              0              1   \n",
       "778                  0                    1              0              0   \n",
       "\n",
       "     season_Winter  \n",
       "541              1  \n",
       "440              1  \n",
       "482              0  \n",
       "422              0  \n",
       "778              1  "
      ]
     },
     "execution_count": 32,
     "metadata": {},
     "output_type": "execute_result"
    }
   ],
   "source": [
    "X_train.head()"
   ]
  },
  {
   "cell_type": "code",
   "execution_count": 33,
   "metadata": {},
   "outputs": [
    {
     "data": {
      "text/html": [
       "<div>\n",
       "<style scoped>\n",
       "    .dataframe tbody tr th:only-of-type {\n",
       "        vertical-align: middle;\n",
       "    }\n",
       "\n",
       "    .dataframe tbody tr th {\n",
       "        vertical-align: top;\n",
       "    }\n",
       "\n",
       "    .dataframe thead th {\n",
       "        text-align: right;\n",
       "    }\n",
       "</style>\n",
       "<table border=\"1\" class=\"dataframe\">\n",
       "  <thead>\n",
       "    <tr style=\"text-align: right;\">\n",
       "      <th></th>\n",
       "      <th>visitors</th>\n",
       "      <th>ad_impressions</th>\n",
       "      <th>major_sports_event</th>\n",
       "      <th>genre</th>\n",
       "      <th>dayofweek</th>\n",
       "      <th>season</th>\n",
       "      <th>views_trailer</th>\n",
       "      <th>views_content</th>\n",
       "    </tr>\n",
       "  </thead>\n",
       "  <tbody>\n",
       "    <tr>\n",
       "      <th>0</th>\n",
       "      <td>1.670</td>\n",
       "      <td>1113.810</td>\n",
       "      <td>0</td>\n",
       "      <td>Horror</td>\n",
       "      <td>Wednesday</td>\n",
       "      <td>Spring</td>\n",
       "      <td>56.700</td>\n",
       "      <td>0.510</td>\n",
       "    </tr>\n",
       "    <tr>\n",
       "      <th>1</th>\n",
       "      <td>1.460</td>\n",
       "      <td>1498.410</td>\n",
       "      <td>1</td>\n",
       "      <td>Thriller</td>\n",
       "      <td>Friday</td>\n",
       "      <td>Fall</td>\n",
       "      <td>52.690</td>\n",
       "      <td>0.320</td>\n",
       "    </tr>\n",
       "    <tr>\n",
       "      <th>2</th>\n",
       "      <td>1.470</td>\n",
       "      <td>1079.190</td>\n",
       "      <td>1</td>\n",
       "      <td>Thriller</td>\n",
       "      <td>Wednesday</td>\n",
       "      <td>Fall</td>\n",
       "      <td>48.740</td>\n",
       "      <td>0.390</td>\n",
       "    </tr>\n",
       "    <tr>\n",
       "      <th>3</th>\n",
       "      <td>1.850</td>\n",
       "      <td>1342.770</td>\n",
       "      <td>1</td>\n",
       "      <td>Sci-Fi</td>\n",
       "      <td>Friday</td>\n",
       "      <td>Fall</td>\n",
       "      <td>49.810</td>\n",
       "      <td>0.440</td>\n",
       "    </tr>\n",
       "    <tr>\n",
       "      <th>4</th>\n",
       "      <td>1.460</td>\n",
       "      <td>1498.410</td>\n",
       "      <td>0</td>\n",
       "      <td>Sci-Fi</td>\n",
       "      <td>Sunday</td>\n",
       "      <td>Winter</td>\n",
       "      <td>55.830</td>\n",
       "      <td>0.460</td>\n",
       "    </tr>\n",
       "  </tbody>\n",
       "</table>\n",
       "</div>"
      ],
      "text/plain": [
       "   visitors  ad_impressions  major_sports_event     genre  dayofweek  season  \\\n",
       "0     1.670        1113.810                   0    Horror  Wednesday  Spring   \n",
       "1     1.460        1498.410                   1  Thriller     Friday    Fall   \n",
       "2     1.470        1079.190                   1  Thriller  Wednesday    Fall   \n",
       "3     1.850        1342.770                   1    Sci-Fi     Friday    Fall   \n",
       "4     1.460        1498.410                   0    Sci-Fi     Sunday  Winter   \n",
       "\n",
       "   views_trailer  views_content  \n",
       "0         56.700          0.510  \n",
       "1         52.690          0.320  \n",
       "2         48.740          0.390  \n",
       "3         49.810          0.440  \n",
       "4         55.830          0.460  "
      ]
     },
     "execution_count": 33,
     "metadata": {},
     "output_type": "execute_result"
    }
   ],
   "source": [
    "df.head()"
   ]
  },
  {
   "cell_type": "code",
   "execution_count": null,
   "metadata": {
    "scrolled": true
   },
   "outputs": [],
   "source": []
  },
  {
   "cell_type": "code",
   "execution_count": 34,
   "metadata": {},
   "outputs": [
    {
     "name": "stdout",
     "output_type": "stream",
     "text": [
      "Intercept of the linear equation: -0.3050752009880831\n",
      "\n",
      "COefficients of the equation are: [1.31411223e-01 8.04165714e-06 8.89282352e-03 3.77471182e-02\n",
      " 4.86324986e-02 3.31750745e-02 2.52488206e-02 4.65838094e-02\n",
      " 3.96435571e-02 2.22609205e-02 4.39057721e-02 2.70722093e-02]\n"
     ]
    }
   ],
   "source": [
    "from sklearn.linear_model import LinearRegression\n",
    "linearregression = LinearRegression()                                    \n",
    "linearregression.fit(X_train, y_train)                                  \n",
    "\n",
    "print(\"Intercept of the linear equation:\", linearregression.intercept_) \n",
    "print(\"\\nCOefficients of the equation are:\", linearregression.coef_)\n",
    "\n",
    "from sklearn.metrics import mean_absolute_error, mean_squared_error, r2_score\n",
    "\n",
    "pred = linearregression.predict(X_test)    "
   ]
  },
  {
   "cell_type": "markdown",
   "metadata": {
    "id": "jvoU3F6oMKti"
   },
   "source": [
    "## Model performance evaluation"
   ]
  },
  {
   "cell_type": "code",
   "execution_count": 35,
   "metadata": {
    "id": "k3e6gzxdMKti"
   },
   "outputs": [
    {
     "data": {
      "text/plain": [
       "0.05231024711907485"
      ]
     },
     "execution_count": 35,
     "metadata": {},
     "output_type": "execute_result"
    }
   ],
   "source": [
    "# Mean Absolute Error on test\n",
    "mean_absolute_error(y_test, pred)"
   ]
  },
  {
   "cell_type": "code",
   "execution_count": 36,
   "metadata": {
    "scrolled": true
   },
   "outputs": [
    {
     "data": {
      "text/plain": [
       "0.0674566777719165"
      ]
     },
     "execution_count": 36,
     "metadata": {},
     "output_type": "execute_result"
    }
   ],
   "source": [
    "# RMSE on test data\n",
    "mean_squared_error(y_test, pred)**0.5"
   ]
  },
  {
   "cell_type": "markdown",
   "metadata": {
    "scrolled": true
   },
   "source": []
  },
  {
   "cell_type": "code",
   "execution_count": 37,
   "metadata": {},
   "outputs": [
    {
     "data": {
      "text/plain": [
       "0.5328652318263891"
      ]
     },
     "execution_count": 37,
     "metadata": {},
     "output_type": "execute_result"
    }
   ],
   "source": [
    "r2_score(y_test, pred)"
   ]
  },
  {
   "cell_type": "code",
   "execution_count": 38,
   "metadata": {},
   "outputs": [
    {
     "data": {
      "text/plain": [
       "0.5407891125190398"
      ]
     },
     "execution_count": 38,
     "metadata": {},
     "output_type": "execute_result"
    }
   ],
   "source": [
    "\n",
    "linearregression.score(X_train, y_train)  # 70 % data "
   ]
  },
  {
   "cell_type": "code",
   "execution_count": 39,
   "metadata": {
    "scrolled": false
   },
   "outputs": [
    {
     "data": {
      "text/plain": [
       "0.5328652318263891"
      ]
     },
     "execution_count": 39,
     "metadata": {},
     "output_type": "execute_result"
    }
   ],
   "source": [
    "linearregression.score(X_test, y_test)"
   ]
  },
  {
   "cell_type": "code",
   "execution_count": 40,
   "metadata": {},
   "outputs": [],
   "source": [
    "#Training and testing data are below 70% which means that unfortunately the model is not satisfactory."
   ]
  },
  {
   "cell_type": "markdown",
   "metadata": {
    "id": "a9GxSQf-qH8e"
   },
   "source": [
    "## Checking Linear Regression Assumptions\n",
    "\n",
    "- In order to make statistical inferences from a linear regression model, it is important to ensure that the assumptions of linear regression are satisfied."
   ]
  },
  {
   "cell_type": "code",
   "execution_count": 41,
   "metadata": {},
   "outputs": [
    {
     "name": "stdout",
     "output_type": "stream",
     "text": [
      "                            OLS Regression Results                            \n",
      "==============================================================================\n",
      "Dep. Variable:          views_content   R-squared:                       0.541\n",
      "Model:                            OLS   Adj. R-squared:                  0.533\n",
      "Method:                 Least Squares   F-statistic:                     67.42\n",
      "Date:                Sun, 25 Dec 2022   Prob (F-statistic):          1.55e-107\n",
      "Time:                        20:51:32   Log-Likelihood:                 899.83\n",
      "No. Observations:                 700   AIC:                            -1774.\n",
      "Df Residuals:                     687   BIC:                            -1714.\n",
      "Df Model:                          12                                         \n",
      "Covariance Type:            nonrobust                                         \n",
      "=======================================================================================\n",
      "                          coef    std err          t      P>|t|      [0.025      0.975]\n",
      "---------------------------------------------------------------------------------------\n",
      "const                  -0.3051      0.032     -9.661      0.000      -0.367      -0.243\n",
      "visitors                0.1314      0.011     11.695      0.000       0.109       0.153\n",
      "ad_impressions       8.042e-06    9.2e-06      0.874      0.382      -1e-05    2.61e-05\n",
      "views_trailer           0.0089      0.000     24.017      0.000       0.008       0.010\n",
      "dayofweek_Monday        0.0377      0.017      2.165      0.031       0.004       0.072\n",
      "dayofweek_Saturday      0.0486      0.010      4.981      0.000       0.029       0.068\n",
      "dayofweek_Sunday        0.0332      0.011      3.132      0.002       0.012       0.054\n",
      "dayofweek_Thursday      0.0252      0.009      2.783      0.006       0.007       0.043\n",
      "dayofweek_Tuesday       0.0466      0.018      2.659      0.008       0.012       0.081\n",
      "dayofweek_Wednesday     0.0396      0.006      6.462      0.000       0.028       0.052\n",
      "season_Spring           0.0223      0.007      3.061      0.002       0.008       0.037\n",
      "season_Summer           0.0439      0.007      5.872      0.000       0.029       0.059\n",
      "season_Winter           0.0271      0.007      3.753      0.000       0.013       0.041\n",
      "==============================================================================\n",
      "Omnibus:                       10.407   Durbin-Watson:                   2.004\n",
      "Prob(Omnibus):                  0.005   Jarque-Bera (JB):                6.678\n",
      "Skew:                           0.066   Prob(JB):                       0.0355\n",
      "Kurtosis:                       2.540   Cond. No.                     1.85e+04\n",
      "==============================================================================\n",
      "\n",
      "Notes:\n",
      "[1] Standard Errors assume that the covariance matrix of the errors is correctly specified.\n",
      "[2] The condition number is large, 1.85e+04. This might indicate that there are\n",
      "strong multicollinearity or other numerical problems.\n"
     ]
    }
   ],
   "source": [
    "\n",
    "X = sm.add_constant(X)\n",
    "X_train1, X_test, y_train, y_test = train_test_split(X, y, test_size=0.3, random_state=42)\n",
    "\n",
    "olsmod0 = sm.OLS(y_train, X_train1)\n",
    "olsres0 = olsmod0.fit()\n",
    "print(olsres0.summary())"
   ]
  },
  {
   "cell_type": "code",
   "execution_count": 42,
   "metadata": {
    "id": "naX-iXItqH-b",
    "scrolled": true
   },
   "outputs": [
    {
     "name": "stdout",
     "output_type": "stream",
     "text": [
      "Series before feature selection: \n",
      "\n",
      "const                 153.964\n",
      "visitors                1.010\n",
      "ad_impressions          1.007\n",
      "views_trailer           1.009\n",
      "dayofweek_Monday        1.044\n",
      "dayofweek_Saturday      1.135\n",
      "dayofweek_Sunday        1.108\n",
      "dayofweek_Thursday      1.145\n",
      "dayofweek_Tuesday       1.045\n",
      "dayofweek_Wednesday     1.272\n",
      "season_Spring           1.502\n",
      "season_Summer           1.505\n",
      "season_Winter           1.523\n",
      "dtype: float64\n",
      "\n"
     ]
    }
   ],
   "source": [
    "from statsmodels.stats.outliers_influence import variance_inflation_factor\n",
    "vif_series1 = pd.Series([variance_inflation_factor(X.values,i) for i in range(X.shape[1])],index=X.columns)\n",
    "print('Series before feature selection: \\n\\n{}\\n'.format(vif_series1))\n"
   ]
  },
  {
   "cell_type": "code",
   "execution_count": 43,
   "metadata": {
    "scrolled": true
   },
   "outputs": [
    {
     "name": "stdout",
     "output_type": "stream",
     "text": [
      "Series before feature selection: \n",
      "\n",
      "const                150.826\n",
      "visitors               1.020\n",
      "ad_impressions         1.007\n",
      "views_trailer          1.006\n",
      "dayofweek_Monday       1.013\n",
      "dayofweek_Saturday     1.031\n",
      "dayofweek_Sunday       1.035\n",
      "dayofweek_Thursday     1.047\n",
      "dayofweek_Tuesday      1.022\n",
      "season_Spring          1.533\n",
      "season_Summer          1.515\n",
      "season_Winter          1.573\n",
      "dtype: float64\n",
      "\n"
     ]
    }
   ],
   "source": [
    "X_train2 = X_train1.drop('dayofweek_Wednesday', axis=1)\n",
    "vif_series2 = pd.Series([variance_inflation_factor(X_train2.values,i) for i in range(X_train2.shape[1])],index=X_train2.columns)\n",
    "print('Series before feature selection: \\n\\n{}\\n'.format(vif_series2))"
   ]
  },
  {
   "cell_type": "code",
   "execution_count": 44,
   "metadata": {
    "scrolled": false
   },
   "outputs": [
    {
     "name": "stdout",
     "output_type": "stream",
     "text": [
      "                            OLS Regression Results                            \n",
      "==============================================================================\n",
      "Dep. Variable:          views_content   R-squared:                       0.513\n",
      "Model:                            OLS   Adj. R-squared:                  0.505\n",
      "Method:                 Least Squares   F-statistic:                     65.85\n",
      "Date:                Sun, 25 Dec 2022   Prob (F-statistic):          9.08e-100\n",
      "Time:                        20:51:39   Log-Likelihood:                 879.18\n",
      "No. Observations:                 700   AIC:                            -1734.\n",
      "Df Residuals:                     688   BIC:                            -1680.\n",
      "Df Model:                          11                                         \n",
      "Covariance Type:            nonrobust                                         \n",
      "======================================================================================\n",
      "                         coef    std err          t      P>|t|      [0.025      0.975]\n",
      "--------------------------------------------------------------------------------------\n",
      "const                 -0.2807      0.032     -8.700      0.000      -0.344      -0.217\n",
      "visitors               0.1297      0.012     11.217      0.000       0.107       0.152\n",
      "ad_impressions      6.766e-06   9.47e-06      0.715      0.475   -1.18e-05    2.54e-05\n",
      "views_trailer          0.0089      0.000     23.349      0.000       0.008       0.010\n",
      "dayofweek_Monday       0.0189      0.018      1.068      0.286      -0.016       0.054\n",
      "dayofweek_Saturday     0.0301      0.010      3.131      0.002       0.011       0.049\n",
      "dayofweek_Sunday       0.0142      0.010      1.354      0.176      -0.006       0.035\n",
      "dayofweek_Thursday     0.0065      0.009      0.739      0.460      -0.011       0.024\n",
      "dayofweek_Tuesday      0.0274      0.018      1.540      0.124      -0.008       0.062\n",
      "season_Spring          0.0214      0.007      2.859      0.004       0.007       0.036\n",
      "season_Summer          0.0414      0.008      5.388      0.000       0.026       0.057\n",
      "season_Winter          0.0259      0.007      3.491      0.001       0.011       0.040\n",
      "==============================================================================\n",
      "Omnibus:                       10.999   Durbin-Watson:                   2.002\n",
      "Prob(Omnibus):                  0.004   Jarque-Bera (JB):                6.962\n",
      "Skew:                           0.069   Prob(JB):                       0.0308\n",
      "Kurtosis:                       2.531   Cond. No.                     1.83e+04\n",
      "==============================================================================\n",
      "\n",
      "Notes:\n",
      "[1] Standard Errors assume that the covariance matrix of the errors is correctly specified.\n",
      "[2] The condition number is large, 1.83e+04. This might indicate that there are\n",
      "strong multicollinearity or other numerical problems.\n"
     ]
    }
   ],
   "source": [
    "olsmod1 = sm.OLS(y_train, X_train2)\n",
    "olsres1 = olsmod1.fit()\n",
    "print(olsres1.summary())"
   ]
  },
  {
   "cell_type": "code",
   "execution_count": 45,
   "metadata": {
    "scrolled": true
   },
   "outputs": [
    {
     "name": "stdout",
     "output_type": "stream",
     "text": [
      "Series before feature selection: \n",
      "\n",
      "const                 153.964\n",
      "visitors                1.010\n",
      "ad_impressions          1.007\n",
      "views_trailer           1.009\n",
      "dayofweek_Monday        1.044\n",
      "dayofweek_Saturday      1.135\n",
      "dayofweek_Sunday        1.108\n",
      "dayofweek_Thursday      1.145\n",
      "dayofweek_Tuesday       1.045\n",
      "dayofweek_Wednesday     1.272\n",
      "season_Spring           1.502\n",
      "season_Summer           1.505\n",
      "season_Winter           1.523\n",
      "dtype: float64\n",
      "\n"
     ]
    }
   ],
   "source": [
    "from statsmodels.stats.outliers_influence import variance_inflation_factor\n",
    "import pandas as pd\n",
    "vif_series1 = pd.Series([variance_inflation_factor(X.values,i) for i in range(X.shape[1])],index=X.columns)\n",
    "print('Series before feature selection: \\n\\n{}\\n'.format(vif_series1))"
   ]
  },
  {
   "cell_type": "code",
   "execution_count": 47,
   "metadata": {},
   "outputs": [
    {
     "name": "stdout",
     "output_type": "stream",
     "text": [
      "Series before feature selection: \n",
      "\n",
      "const                 152.933\n",
      "visitors                1.010\n",
      "ad_impressions          1.007\n",
      "views_trailer           1.005\n",
      "dayofweek_Monday        1.040\n",
      "dayofweek_Saturday      1.128\n",
      "dayofweek_Sunday        1.121\n",
      "dayofweek_Thursday      1.155\n",
      "dayofweek_Tuesday       1.050\n",
      "dayofweek_Wednesday     1.276\n",
      "season_Spring           1.129\n",
      "season_Summer           1.132\n",
      "dtype: float64\n",
      "\n"
     ]
    }
   ],
   "source": [
    "# we drop the one with the highest vif values and check the Adjusted-R Squared\n",
    "X_train2 = X_train1.drop('season_Winter', axis=1)\n",
    "vif_series2 = pd.Series([variance_inflation_factor(X_train2.values,i) for i in range(X_train2.shape[1])],index=X_train2.columns)\n",
    "print('Series before feature selection: \\n\\n{}\\n'.format(vif_series2))"
   ]
  },
  {
   "cell_type": "code",
   "execution_count": 48,
   "metadata": {},
   "outputs": [
    {
     "name": "stdout",
     "output_type": "stream",
     "text": [
      "                            OLS Regression Results                            \n",
      "==============================================================================\n",
      "Dep. Variable:          views_content   R-squared:                       0.531\n",
      "Model:                            OLS   Adj. R-squared:                  0.524\n",
      "Method:                 Least Squares   F-statistic:                     70.92\n",
      "Date:                Sun, 25 Dec 2022   Prob (F-statistic):          1.75e-105\n",
      "Time:                        20:53:32   Log-Likelihood:                 892.72\n",
      "No. Observations:                 700   AIC:                            -1761.\n",
      "Df Residuals:                     688   BIC:                            -1707.\n",
      "Df Model:                          11                                         \n",
      "Covariance Type:            nonrobust                                         \n",
      "=======================================================================================\n",
      "                          coef    std err          t      P>|t|      [0.025      0.975]\n",
      "---------------------------------------------------------------------------------------\n",
      "const                  -0.3025      0.032     -9.491      0.000      -0.365      -0.240\n",
      "visitors                0.1357      0.011     12.022      0.000       0.114       0.158\n",
      "ad_impressions       8.891e-06   9.28e-06      0.958      0.338   -9.34e-06    2.71e-05\n",
      "views_trailer           0.0089      0.000     23.948      0.000       0.008       0.010\n",
      "dayofweek_Monday        0.0350      0.018      1.989      0.047       0.000       0.070\n",
      "dayofweek_Saturday      0.0498      0.010      5.059      0.000       0.030       0.069\n",
      "dayofweek_Sunday        0.0332      0.011      3.107      0.002       0.012       0.054\n",
      "dayofweek_Thursday      0.0286      0.009      3.134      0.002       0.011       0.046\n",
      "dayofweek_Tuesday       0.0436      0.018      2.470      0.014       0.009       0.078\n",
      "dayofweek_Wednesday     0.0391      0.006      6.310      0.000       0.027       0.051\n",
      "season_Spring           0.0083      0.006      1.310      0.191      -0.004       0.021\n",
      "season_Summer           0.0297      0.007      4.564      0.000       0.017       0.043\n",
      "==============================================================================\n",
      "Omnibus:                       11.405   Durbin-Watson:                   1.995\n",
      "Prob(Omnibus):                  0.003   Jarque-Bera (JB):                7.273\n",
      "Skew:                           0.082   Prob(JB):                       0.0263\n",
      "Kurtosis:                       2.528   Cond. No.                     1.85e+04\n",
      "==============================================================================\n",
      "\n",
      "Notes:\n",
      "[1] Standard Errors assume that the covariance matrix of the errors is correctly specified.\n",
      "[2] The condition number is large, 1.85e+04. This might indicate that there are\n",
      "strong multicollinearity or other numerical problems.\n"
     ]
    }
   ],
   "source": [
    "olsmod1 = sm.OLS(y_train, X_train2)\n",
    "olsres1 = olsmod1.fit()\n",
    "print(olsres1.summary())"
   ]
  },
  {
   "cell_type": "code",
   "execution_count": 49,
   "metadata": {},
   "outputs": [],
   "source": [
    "#r-squared value went up which is great!"
   ]
  },
  {
   "cell_type": "code",
   "execution_count": 50,
   "metadata": {},
   "outputs": [],
   "source": [
    "#What if we drop season_summer"
   ]
  },
  {
   "cell_type": "code",
   "execution_count": 52,
   "metadata": {},
   "outputs": [
    {
     "name": "stdout",
     "output_type": "stream",
     "text": [
      "Series before feature selection: \n",
      "\n",
      "const                 151.146\n",
      "visitors                1.021\n",
      "ad_impressions          1.007\n",
      "views_trailer           1.006\n",
      "dayofweek_Monday        1.041\n",
      "dayofweek_Saturday      1.127\n",
      "dayofweek_Sunday        1.117\n",
      "dayofweek_Thursday      1.164\n",
      "dayofweek_Tuesday       1.042\n",
      "dayofweek_Wednesday     1.274\n",
      "season_Spring           1.156\n",
      "season_Winter           1.173\n",
      "dtype: float64\n",
      "\n"
     ]
    }
   ],
   "source": [
    "# we drop the one with the highest vif values\n",
    "X_train3 = X_train1.drop('season_Summer', axis=1)\n",
    "vif_series3 = pd.Series([variance_inflation_factor(X_train3.values,i) for i in range(X_train3.shape[1])],index=X_train3.columns)\n",
    "print('Series before feature selection: \\n\\n{}\\n'.format(vif_series3))"
   ]
  },
  {
   "cell_type": "code",
   "execution_count": 54,
   "metadata": {},
   "outputs": [
    {
     "name": "stdout",
     "output_type": "stream",
     "text": [
      "                            OLS Regression Results                            \n",
      "==============================================================================\n",
      "Dep. Variable:          views_content   R-squared:                       0.518\n",
      "Model:                            OLS   Adj. R-squared:                  0.510\n",
      "Method:                 Least Squares   F-statistic:                     67.15\n",
      "Date:                Sun, 25 Dec 2022   Prob (F-statistic):          3.00e-101\n",
      "Time:                        20:56:17   Log-Likelihood:                 882.69\n",
      "No. Observations:                 700   AIC:                            -1741.\n",
      "Df Residuals:                     688   BIC:                            -1687.\n",
      "Df Model:                          11                                         \n",
      "Covariance Type:            nonrobust                                         \n",
      "=======================================================================================\n",
      "                          coef    std err          t      P>|t|      [0.025      0.975]\n",
      "---------------------------------------------------------------------------------------\n",
      "const                  -0.2846      0.032     -8.856      0.000      -0.348      -0.222\n",
      "visitors                0.1320      0.012     11.476      0.000       0.109       0.155\n",
      "ad_impressions       7.986e-06   9.42e-06      0.848      0.397   -1.05e-05    2.65e-05\n",
      "views_trailer           0.0089      0.000     23.477      0.000       0.008       0.010\n",
      "dayofweek_Monday        0.0347      0.018      1.947      0.052      -0.000       0.070\n",
      "dayofweek_Saturday      0.0512      0.010      5.131      0.000       0.032       0.071\n",
      "dayofweek_Sunday        0.0296      0.011      2.731      0.006       0.008       0.051\n",
      "dayofweek_Thursday      0.0273      0.009      2.940      0.003       0.009       0.046\n",
      "dayofweek_Tuesday       0.0367      0.018      2.054      0.040       0.002       0.072\n",
      "dayofweek_Wednesday     0.0378      0.006      6.022      0.000       0.025       0.050\n",
      "season_Spring           0.0011      0.006      0.167      0.867      -0.012       0.014\n",
      "season_Winter           0.0057      0.006      0.891      0.373      -0.007       0.018\n",
      "==============================================================================\n",
      "Omnibus:                        7.832   Durbin-Watson:                   2.025\n",
      "Prob(Omnibus):                  0.020   Jarque-Bera (JB):                5.538\n",
      "Skew:                           0.078   Prob(JB):                       0.0627\n",
      "Kurtosis:                       2.593   Cond. No.                     1.83e+04\n",
      "==============================================================================\n",
      "\n",
      "Notes:\n",
      "[1] Standard Errors assume that the covariance matrix of the errors is correctly specified.\n",
      "[2] The condition number is large, 1.83e+04. This might indicate that there are\n",
      "strong multicollinearity or other numerical problems.\n"
     ]
    }
   ],
   "source": [
    "olsmod2 = sm.OLS(y_train, X_train3)\n",
    "olsres2 = olsmod2.fit()\n",
    "print(olsres2.summary())"
   ]
  },
  {
   "cell_type": "code",
   "execution_count": 57,
   "metadata": {},
   "outputs": [],
   "source": [
    "#R-squared value not as good so other one is better, we will proceed with olsmod1"
   ]
  },
  {
   "cell_type": "code",
   "execution_count": 61,
   "metadata": {},
   "outputs": [],
   "source": [
    "#Dropping season_Spring because it is the highest p-value above 0.05\n",
    "X_train4 = X_train2.drop(['season_Spring'], axis=1)"
   ]
  },
  {
   "cell_type": "markdown",
   "metadata": {},
   "source": []
  },
  {
   "cell_type": "code",
   "execution_count": 62,
   "metadata": {
    "scrolled": true
   },
   "outputs": [
    {
     "name": "stdout",
     "output_type": "stream",
     "text": [
      "                            OLS Regression Results                            \n",
      "==============================================================================\n",
      "Dep. Variable:          views_content   R-squared:                       0.530\n",
      "Model:                            OLS   Adj. R-squared:                  0.523\n",
      "Method:                 Least Squares   F-statistic:                     77.76\n",
      "Date:                Sun, 25 Dec 2022   Prob (F-statistic):          4.52e-106\n",
      "Time:                        20:59:55   Log-Likelihood:                 891.85\n",
      "No. Observations:                 700   AIC:                            -1762.\n",
      "Df Residuals:                     689   BIC:                            -1712.\n",
      "Df Model:                          10                                         \n",
      "Covariance Type:            nonrobust                                         \n",
      "=======================================================================================\n",
      "                          coef    std err          t      P>|t|      [0.025      0.975]\n",
      "---------------------------------------------------------------------------------------\n",
      "const                  -0.2970      0.032     -9.396      0.000      -0.359      -0.235\n",
      "visitors                0.1347      0.011     11.955      0.000       0.113       0.157\n",
      "ad_impressions       8.693e-06   9.29e-06      0.936      0.350   -9.54e-06    2.69e-05\n",
      "views_trailer           0.0089      0.000     23.908      0.000       0.008       0.010\n",
      "dayofweek_Monday        0.0345      0.018      1.960      0.050   -5.49e-05       0.069\n",
      "dayofweek_Saturday      0.0500      0.010      5.078      0.000       0.031       0.069\n",
      "dayofweek_Sunday        0.0340      0.011      3.180      0.002       0.013       0.055\n",
      "dayofweek_Thursday      0.0283      0.009      3.106      0.002       0.010       0.046\n",
      "dayofweek_Tuesday       0.0421      0.018      2.388      0.017       0.007       0.077\n",
      "dayofweek_Wednesday     0.0390      0.006      6.299      0.000       0.027       0.051\n",
      "season_Summer           0.0270      0.006      4.373      0.000       0.015       0.039\n",
      "==============================================================================\n",
      "Omnibus:                        9.837   Durbin-Watson:                   1.997\n",
      "Prob(Omnibus):                  0.007   Jarque-Bera (JB):                6.456\n",
      "Skew:                           0.071   Prob(JB):                       0.0396\n",
      "Kurtosis:                       2.552   Cond. No.                     1.83e+04\n",
      "==============================================================================\n",
      "\n",
      "Notes:\n",
      "[1] Standard Errors assume that the covariance matrix of the errors is correctly specified.\n",
      "[2] The condition number is large, 1.83e+04. This might indicate that there are\n",
      "strong multicollinearity or other numerical problems.\n"
     ]
    }
   ],
   "source": [
    "olsmod3 = sm.OLS(y_train, X_train4)\n",
    "olsres3 = olsmod3.fit()\n",
    "print(olsres3.summary())"
   ]
  },
  {
   "cell_type": "code",
   "execution_count": 64,
   "metadata": {},
   "outputs": [],
   "source": [
    "#dropping ad_impressions because it is the highest p-value above 0.05\n",
    "X_train5 = X_train4.drop(['ad_impressions'], axis=1)"
   ]
  },
  {
   "cell_type": "code",
   "execution_count": 65,
   "metadata": {},
   "outputs": [
    {
     "name": "stdout",
     "output_type": "stream",
     "text": [
      "                            OLS Regression Results                            \n",
      "==============================================================================\n",
      "Dep. Variable:          views_content   R-squared:                       0.530\n",
      "Model:                            OLS   Adj. R-squared:                  0.523\n",
      "Method:                 Least Squares   F-statistic:                     86.32\n",
      "Date:                Sun, 25 Dec 2022   Prob (F-statistic):          7.29e-107\n",
      "Time:                        21:01:31   Log-Likelihood:                 891.41\n",
      "No. Observations:                 700   AIC:                            -1763.\n",
      "Df Residuals:                     690   BIC:                            -1717.\n",
      "Df Model:                           9                                         \n",
      "Covariance Type:            nonrobust                                         \n",
      "=======================================================================================\n",
      "                          coef    std err          t      P>|t|      [0.025      0.975]\n",
      "---------------------------------------------------------------------------------------\n",
      "const                  -0.2848      0.029     -9.886      0.000      -0.341      -0.228\n",
      "visitors                0.1351      0.011     12.006      0.000       0.113       0.157\n",
      "views_trailer           0.0089      0.000     23.897      0.000       0.008       0.010\n",
      "dayofweek_Monday        0.0341      0.018      1.938      0.053      -0.000       0.069\n",
      "dayofweek_Saturday      0.0499      0.010      5.061      0.000       0.031       0.069\n",
      "dayofweek_Sunday        0.0338      0.011      3.164      0.002       0.013       0.055\n",
      "dayofweek_Thursday      0.0278      0.009      3.059      0.002       0.010       0.046\n",
      "dayofweek_Tuesday       0.0416      0.018      2.359      0.019       0.007       0.076\n",
      "dayofweek_Wednesday     0.0389      0.006      6.280      0.000       0.027       0.051\n",
      "season_Summer           0.0269      0.006      4.363      0.000       0.015       0.039\n",
      "==============================================================================\n",
      "Omnibus:                        9.351   Durbin-Watson:                   1.999\n",
      "Prob(Omnibus):                  0.009   Jarque-Bera (JB):                6.190\n",
      "Skew:                           0.067   Prob(JB):                       0.0453\n",
      "Kurtosis:                       2.559   Cond. No.                         652.\n",
      "==============================================================================\n",
      "\n",
      "Notes:\n",
      "[1] Standard Errors assume that the covariance matrix of the errors is correctly specified.\n"
     ]
    }
   ],
   "source": [
    "olsmod4 = sm.OLS(y_train, X_train5)\n",
    "olsres4 = olsmod4.fit()\n",
    "print(olsres4.summary())"
   ]
  },
  {
   "cell_type": "code",
   "execution_count": 66,
   "metadata": {},
   "outputs": [],
   "source": [
    "#dropping dayofweek_Monday because hihgest p-value greater than 0.05\n",
    "X_train6 = X_train5.drop(['dayofweek_Monday'], axis=1)"
   ]
  },
  {
   "cell_type": "code",
   "execution_count": 67,
   "metadata": {
    "scrolled": true
   },
   "outputs": [
    {
     "name": "stdout",
     "output_type": "stream",
     "text": [
      "                            OLS Regression Results                            \n",
      "==============================================================================\n",
      "Dep. Variable:          views_content   R-squared:                       0.527\n",
      "Model:                            OLS   Adj. R-squared:                  0.522\n",
      "Method:                 Least Squares   F-statistic:                     96.25\n",
      "Date:                Sun, 25 Dec 2022   Prob (F-statistic):          4.60e-107\n",
      "Time:                        21:02:28   Log-Likelihood:                 889.51\n",
      "No. Observations:                 700   AIC:                            -1761.\n",
      "Df Residuals:                     691   BIC:                            -1720.\n",
      "Df Model:                           8                                         \n",
      "Covariance Type:            nonrobust                                         \n",
      "=======================================================================================\n",
      "                          coef    std err          t      P>|t|      [0.025      0.975]\n",
      "---------------------------------------------------------------------------------------\n",
      "const                  -0.2822      0.029     -9.788      0.000      -0.339      -0.226\n",
      "visitors                0.1354      0.011     12.008      0.000       0.113       0.158\n",
      "views_trailer           0.0089      0.000     23.806      0.000       0.008       0.010\n",
      "dayofweek_Saturday      0.0479      0.010      4.876      0.000       0.029       0.067\n",
      "dayofweek_Sunday        0.0318      0.011      2.986      0.003       0.011       0.053\n",
      "dayofweek_Thursday      0.0259      0.009      2.854      0.004       0.008       0.044\n",
      "dayofweek_Tuesday       0.0395      0.018      2.242      0.025       0.005       0.074\n",
      "dayofweek_Wednesday     0.0369      0.006      6.030      0.000       0.025       0.049\n",
      "season_Summer           0.0269      0.006      4.350      0.000       0.015       0.039\n",
      "==============================================================================\n",
      "Omnibus:                       10.899   Durbin-Watson:                   2.000\n",
      "Prob(Omnibus):                  0.004   Jarque-Bera (JB):                6.964\n",
      "Skew:                           0.074   Prob(JB):                       0.0307\n",
      "Kurtosis:                       2.534   Cond. No.                         651.\n",
      "==============================================================================\n",
      "\n",
      "Notes:\n",
      "[1] Standard Errors assume that the covariance matrix of the errors is correctly specified.\n"
     ]
    }
   ],
   "source": [
    "olsmod5 = sm.OLS(y_train, X_train6)\n",
    "olsres5 = olsmod5.fit()\n",
    "print(olsres5.summary())"
   ]
  },
  {
   "cell_type": "code",
   "execution_count": 68,
   "metadata": {},
   "outputs": [
    {
     "data": {
      "text/plain": [
       "-7.390120261772738e-16"
      ]
     },
     "execution_count": 68,
     "metadata": {},
     "output_type": "execute_result"
    }
   ],
   "source": [
    "residual= olsres5.resid\n",
    "np.mean(residual)"
   ]
  },
  {
   "cell_type": "code",
   "execution_count": 69,
   "metadata": {},
   "outputs": [],
   "source": [
    "#very close to 0, which is good because mean of residuals should be 0"
   ]
  },
  {
   "cell_type": "code",
   "execution_count": 70,
   "metadata": {},
   "outputs": [],
   "source": [
    "##Test for Linearity"
   ]
  },
  {
   "cell_type": "code",
   "execution_count": 71,
   "metadata": {},
   "outputs": [],
   "source": [
    "residual=olsres5.resid\n",
    "fitted=olsres5.fittedvalues #predicted values"
   ]
  },
  {
   "cell_type": "code",
   "execution_count": 73,
   "metadata": {
    "scrolled": true
   },
   "outputs": [
    {
     "name": "stderr",
     "output_type": "stream",
     "text": [
      "C:\\Users\\slowb\\PythonFolderAnaconda\\lib\\site-packages\\seaborn\\_decorators.py:36: FutureWarning: Pass the following variables as keyword args: x, y. From version 0.12, the only valid positional argument will be `data`, and passing other arguments without an explicit keyword will result in an error or misinterpretation.\n",
      "  warnings.warn(\n"
     ]
    },
    {
     "data": {
      "image/png": "[encoded data removed]",
      "text/plain": [
       "<Figure size 432x288 with 1 Axes>"
      ]
     },
     "metadata": {},
     "output_type": "display_data"
    }
   ],
   "source": [
    "sns.set_style(\"whitegrid\")\n",
    "sns.residplot(fitted,residual,color=\"blue\",lowess=True)\n",
    "plt.xlabel(\"Fitted Values\")\n",
    "plt.ylabel(\"Residual\")\n",
    "plt.title(\"Residual PLOT\")\n",
    "plt.show()"
   ]
  },
  {
   "cell_type": "code",
   "execution_count": 74,
   "metadata": {},
   "outputs": [],
   "source": [
    "#Scatter plot shows the distribution of residuals (errors) vs fitted values (predicted values) - If there exist any pattern in this plot, we consider it as signs of non-linearity in the data and a pattern means that the model doesn’t capture non-linear effects.\n",
    "#No pattern in residual hence 1st assumptions is satisfied"
   ]
  },
  {
   "cell_type": "code",
   "execution_count": 75,
   "metadata": {},
   "outputs": [],
   "source": [
    "##TEST FOR NORMALITY"
   ]
  },
  {
   "cell_type": "code",
   "execution_count": 76,
   "metadata": {},
   "outputs": [
    {
     "name": "stderr",
     "output_type": "stream",
     "text": [
      "C:\\Users\\slowb\\PythonFolderAnaconda\\lib\\site-packages\\seaborn\\distributions.py:2619: FutureWarning: `distplot` is a deprecated function and will be removed in a future version. Please adapt your code to use either `displot` (a figure-level function with similar flexibility) or `histplot` (an axes-level function for histograms).\n",
      "  warnings.warn(msg, FutureWarning)\n"
     ]
    },
    {
     "data": {
      "image/png": "[encoded data removed]",
      "text/plain": [
       "<Figure size 432x288 with 1 Axes>"
      ]
     },
     "metadata": {},
     "output_type": "display_data"
    }
   ],
   "source": [
    "sns.distplot(residual)\n",
    "plt.title('Normality of residuals')\n",
    "plt.show()"
   ]
  },
  {
   "cell_type": "code",
   "execution_count": 77,
   "metadata": {
    "scrolled": true
   },
   "outputs": [
    {
     "data": {
      "image/png": "[encoded data removed]",
      "text/plain": [
       "<Figure size 432x288 with 1 Axes>"
      ]
     },
     "metadata": {},
     "output_type": "display_data"
    }
   ],
   "source": [
    "import pylab\n",
    "import scipy.stats as stats\n",
    "stats.probplot(residual,dist=\"norm\",plot=pylab)\n",
    "plt.show()"
   ]
  },
  {
   "cell_type": "code",
   "execution_count": 78,
   "metadata": {},
   "outputs": [
    {
     "data": {
      "text/plain": [
       "ShapiroResult(statistic=0.9944761395454407, pvalue=0.012101123109459877)"
      ]
     },
     "execution_count": 78,
     "metadata": {},
     "output_type": "execute_result"
    }
   ],
   "source": [
    "stats.shapiro(residual)"
   ]
  },
  {
   "cell_type": "code",
   "execution_count": 79,
   "metadata": {},
   "outputs": [],
   "source": [
    "#QQ PLOT and SHAPIRO Test show normality which is good"
   ]
  },
  {
   "cell_type": "code",
   "execution_count": 80,
   "metadata": {},
   "outputs": [],
   "source": [
    "#TEST FOR HOMOSCEDACITY"
   ]
  },
  {
   "cell_type": "code",
   "execution_count": 82,
   "metadata": {},
   "outputs": [
    {
     "data": {
      "text/plain": [
       "[('F statistic', 1.0911627296816715), ('p-value', 0.2104638772892274)]"
      ]
     },
     "execution_count": 82,
     "metadata": {},
     "output_type": "execute_result"
    }
   ],
   "source": [
    "import statsmodels.stats.api as sms\n",
    "from statsmodels.compat import lzip\n",
    "\n",
    "name = ['F statistic', 'p-value']\n",
    "test = sms.het_goldfeldquandt(residual, X_train6)\n",
    "lzip(name, test)"
   ]
  },
  {
   "cell_type": "code",
   "execution_count": 83,
   "metadata": {},
   "outputs": [],
   "source": [
    "#Since p-value > 0.05 we can say that the residuals are homoscedastic. This assumption is therefore valid in the data."
   ]
  },
  {
   "cell_type": "code",
   "execution_count": 84,
   "metadata": {},
   "outputs": [],
   "source": [
    "### Now we have checked all the assumptions and they are satisfied, so we can move towards prediction part"
   ]
  },
  {
   "cell_type": "code",
   "execution_count": 85,
   "metadata": {},
   "outputs": [],
   "source": [
    "### Predicting on the test data"
   ]
  },
  {
   "cell_type": "code",
   "execution_count": 87,
   "metadata": {
    "scrolled": false
   },
   "outputs": [
    {
     "data": {
      "text/plain": [
       "Index(['const', 'visitors', 'views_trailer', 'dayofweek_Saturday',\n",
       "       'dayofweek_Sunday', 'dayofweek_Thursday', 'dayofweek_Tuesday',\n",
       "       'dayofweek_Wednesday', 'season_Summer'],\n",
       "      dtype='object')"
      ]
     },
     "execution_count": 87,
     "metadata": {},
     "output_type": "execute_result"
    }
   ],
   "source": [
    "X_train6.columns"
   ]
  },
  {
   "cell_type": "code",
   "execution_count": 88,
   "metadata": {},
   "outputs": [],
   "source": [
    "X_test_final = X_test[X_train6.columns]"
   ]
  },
  {
   "cell_type": "code",
   "execution_count": 89,
   "metadata": {},
   "outputs": [
    {
     "data": {
      "text/html": [
       "<div>\n",
       "<style scoped>\n",
       "    .dataframe tbody tr th:only-of-type {\n",
       "        vertical-align: middle;\n",
       "    }\n",
       "\n",
       "    .dataframe tbody tr th {\n",
       "        vertical-align: top;\n",
       "    }\n",
       "\n",
       "    .dataframe thead th {\n",
       "        text-align: right;\n",
       "    }\n",
       "</style>\n",
       "<table border=\"1\" class=\"dataframe\">\n",
       "  <thead>\n",
       "    <tr style=\"text-align: right;\">\n",
       "      <th></th>\n",
       "      <th>const</th>\n",
       "      <th>visitors</th>\n",
       "      <th>views_trailer</th>\n",
       "      <th>dayofweek_Saturday</th>\n",
       "      <th>dayofweek_Sunday</th>\n",
       "      <th>dayofweek_Thursday</th>\n",
       "      <th>dayofweek_Tuesday</th>\n",
       "      <th>dayofweek_Wednesday</th>\n",
       "      <th>season_Summer</th>\n",
       "    </tr>\n",
       "  </thead>\n",
       "  <tbody>\n",
       "    <tr>\n",
       "      <th>521</th>\n",
       "      <td>1.000</td>\n",
       "      <td>1.700</td>\n",
       "      <td>43.870</td>\n",
       "      <td>0</td>\n",
       "      <td>0</td>\n",
       "      <td>1</td>\n",
       "      <td>0</td>\n",
       "      <td>0</td>\n",
       "      <td>1</td>\n",
       "    </tr>\n",
       "    <tr>\n",
       "      <th>737</th>\n",
       "      <td>1.000</td>\n",
       "      <td>2.190</td>\n",
       "      <td>52.040</td>\n",
       "      <td>0</td>\n",
       "      <td>0</td>\n",
       "      <td>0</td>\n",
       "      <td>0</td>\n",
       "      <td>1</td>\n",
       "      <td>0</td>\n",
       "    </tr>\n",
       "    <tr>\n",
       "      <th>740</th>\n",
       "      <td>1.000</td>\n",
       "      <td>1.690</td>\n",
       "      <td>49.100</td>\n",
       "      <td>0</td>\n",
       "      <td>0</td>\n",
       "      <td>0</td>\n",
       "      <td>0</td>\n",
       "      <td>1</td>\n",
       "      <td>0</td>\n",
       "    </tr>\n",
       "    <tr>\n",
       "      <th>660</th>\n",
       "      <td>1.000</td>\n",
       "      <td>1.550</td>\n",
       "      <td>67.966</td>\n",
       "      <td>0</td>\n",
       "      <td>0</td>\n",
       "      <td>0</td>\n",
       "      <td>0</td>\n",
       "      <td>1</td>\n",
       "      <td>0</td>\n",
       "    </tr>\n",
       "    <tr>\n",
       "      <th>411</th>\n",
       "      <td>1.000</td>\n",
       "      <td>1.270</td>\n",
       "      <td>50.110</td>\n",
       "      <td>0</td>\n",
       "      <td>1</td>\n",
       "      <td>0</td>\n",
       "      <td>0</td>\n",
       "      <td>0</td>\n",
       "      <td>0</td>\n",
       "    </tr>\n",
       "  </tbody>\n",
       "</table>\n",
       "</div>"
      ],
      "text/plain": [
       "     const  visitors  views_trailer  dayofweek_Saturday  dayofweek_Sunday  \\\n",
       "521  1.000     1.700         43.870                   0                 0   \n",
       "737  1.000     2.190         52.040                   0                 0   \n",
       "740  1.000     1.690         49.100                   0                 0   \n",
       "660  1.000     1.550         67.966                   0                 0   \n",
       "411  1.000     1.270         50.110                   0                 1   \n",
       "\n",
       "     dayofweek_Thursday  dayofweek_Tuesday  dayofweek_Wednesday  season_Summer  \n",
       "521                   1                  0                    0              1  \n",
       "737                   0                  0                    1              0  \n",
       "740                   0                  0                    1              0  \n",
       "660                   0                  0                    1              0  \n",
       "411                   0                  0                    0              0  "
      ]
     },
     "execution_count": 89,
     "metadata": {},
     "output_type": "execute_result"
    }
   ],
   "source": [
    "X_test_final.head()"
   ]
  },
  {
   "cell_type": "code",
   "execution_count": 91,
   "metadata": {},
   "outputs": [],
   "source": [
    "y_pred = olsres5.predict(X_test_final)"
   ]
  },
  {
   "cell_type": "code",
   "execution_count": 92,
   "metadata": {},
   "outputs": [],
   "source": [
    "### Checking the performance on train and test: metric used - RMSE"
   ]
  },
  {
   "cell_type": "code",
   "execution_count": 93,
   "metadata": {},
   "outputs": [
    {
     "name": "stdout",
     "output_type": "stream",
     "text": [
      "Train error: 0.0679037358692309\n",
      "Test error: 0.0680650057310706\n"
     ]
    }
   ],
   "source": [
    "#Checking root mean squared error on both train and test set  \n",
    "\n",
    "from sklearn.metrics import mean_squared_error\n",
    "rms = np.sqrt(mean_squared_error(y_train, fitted))\n",
    "print('Train error:',rms)\n",
    "\n",
    "rms1 = np.sqrt(mean_squared_error(y_test, y_pred))\n",
    "print('Test error:',rms1)"
   ]
  },
  {
   "cell_type": "code",
   "execution_count": 94,
   "metadata": {},
   "outputs": [],
   "source": [
    "### Now we can finally see that we have low test and train error, also both the errors are comparable, so our model is not suffering from overfitting .\n",
    "### Hence we can conclude the model \"olsres5\" is good for prediction as well as inference purpose"
   ]
  },
  {
   "cell_type": "code",
   "execution_count": 96,
   "metadata": {
    "scrolled": false
   },
   "outputs": [
    {
     "name": "stdout",
     "output_type": "stream",
     "text": [
      "                            OLS Regression Results                            \n",
      "==============================================================================\n",
      "Dep. Variable:          views_content   R-squared:                       0.527\n",
      "Model:                            OLS   Adj. R-squared:                  0.522\n",
      "Method:                 Least Squares   F-statistic:                     96.25\n",
      "Date:                Sun, 25 Dec 2022   Prob (F-statistic):          4.60e-107\n",
      "Time:                        21:10:51   Log-Likelihood:                 889.51\n",
      "No. Observations:                 700   AIC:                            -1761.\n",
      "Df Residuals:                     691   BIC:                            -1720.\n",
      "Df Model:                           8                                         \n",
      "Covariance Type:            nonrobust                                         \n",
      "=======================================================================================\n",
      "                          coef    std err          t      P>|t|      [0.025      0.975]\n",
      "---------------------------------------------------------------------------------------\n",
      "const                  -0.2822      0.029     -9.788      0.000      -0.339      -0.226\n",
      "visitors                0.1354      0.011     12.008      0.000       0.113       0.158\n",
      "views_trailer           0.0089      0.000     23.806      0.000       0.008       0.010\n",
      "dayofweek_Saturday      0.0479      0.010      4.876      0.000       0.029       0.067\n",
      "dayofweek_Sunday        0.0318      0.011      2.986      0.003       0.011       0.053\n",
      "dayofweek_Thursday      0.0259      0.009      2.854      0.004       0.008       0.044\n",
      "dayofweek_Tuesday       0.0395      0.018      2.242      0.025       0.005       0.074\n",
      "dayofweek_Wednesday     0.0369      0.006      6.030      0.000       0.025       0.049\n",
      "season_Summer           0.0269      0.006      4.350      0.000       0.015       0.039\n",
      "==============================================================================\n",
      "Omnibus:                       10.899   Durbin-Watson:                   2.000\n",
      "Prob(Omnibus):                  0.004   Jarque-Bera (JB):                6.964\n",
      "Skew:                           0.074   Prob(JB):                       0.0307\n",
      "Kurtosis:                       2.534   Cond. No.                         651.\n",
      "==============================================================================\n",
      "\n",
      "Notes:\n",
      "[1] Standard Errors assume that the covariance matrix of the errors is correctly specified.\n"
     ]
    }
   ],
   "source": [
    "olsmod5 = sm.OLS(y_train, X_train6)\n",
    "olsres5 = olsmod5.fit()\n",
    "print(olsres5.summary())"
   ]
  },
  {
   "cell_type": "code",
   "execution_count": 97,
   "metadata": {},
   "outputs": [],
   "source": [
    "#Observations"
   ]
  },
  {
   "cell_type": "code",
   "execution_count": 98,
   "metadata": {},
   "outputs": [],
   "source": [
    "#1. an increase in one unit of visitors leads to a .1354 increase in views\n",
    "#2. The days show some significance, monday was emitted because the p value was too high. Season summer was also significant. All of these factors had similar significance\n",
    "#3. an increase in one unit of views_trailer was the least significant factor, which means that viewing the trailer does not mean someone will watch the content. \n",
    "#4. Saturday was the most significant day, which makes sense. \n"
   ]
  },
  {
   "cell_type": "code",
   "execution_count": 105,
   "metadata": {},
   "outputs": [],
   "source": [
    "from mlxtend.feature_selection import SequentialFeatureSelector as sfs"
   ]
  },
  {
   "cell_type": "code",
   "execution_count": 107,
   "metadata": {},
   "outputs": [
    {
     "data": {
      "text/plain": [
       "13"
      ]
     },
     "execution_count": 107,
     "metadata": {},
     "output_type": "execute_result"
    }
   ],
   "source": [
    "X.shape[1]"
   ]
  },
  {
   "cell_type": "markdown",
   "metadata": {},
   "source": []
  },
  {
   "cell_type": "code",
   "execution_count": 117,
   "metadata": {
    "scrolled": true
   },
   "outputs": [
    {
     "name": "stderr",
     "output_type": "stream",
     "text": [
      "[Parallel(n_jobs=1)]: Using backend SequentialBackend with 1 concurrent workers.\n",
      "[Parallel(n_jobs=1)]: Done   1 out of   1 | elapsed:    0.0s remaining:    0.0s\n",
      "[Parallel(n_jobs=1)]: Done  11 out of  11 | elapsed:    0.0s finished\n",
      "\n",
      "[2022-12-25 21:24:50] Features: 1/11 -- score: 0.38319372320569356[Parallel(n_jobs=1)]: Using backend SequentialBackend with 1 concurrent workers.\n",
      "[Parallel(n_jobs=1)]: Done   1 out of   1 | elapsed:    0.0s remaining:    0.0s\n",
      "[Parallel(n_jobs=1)]: Done  10 out of  10 | elapsed:    0.0s finished\n",
      "\n",
      "[2022-12-25 21:24:50] Features: 2/11 -- score: 0.47577080521272636[Parallel(n_jobs=1)]: Using backend SequentialBackend with 1 concurrent workers.\n",
      "[Parallel(n_jobs=1)]: Done   1 out of   1 | elapsed:    0.0s remaining:    0.0s\n",
      "[Parallel(n_jobs=1)]: Done   9 out of   9 | elapsed:    0.0s finished\n",
      "\n",
      "[2022-12-25 21:24:50] Features: 3/11 -- score: 0.48623197810228247[Parallel(n_jobs=1)]: Using backend SequentialBackend with 1 concurrent workers.\n",
      "[Parallel(n_jobs=1)]: Done   1 out of   1 | elapsed:    0.0s remaining:    0.0s\n",
      "[Parallel(n_jobs=1)]: Done   8 out of   8 | elapsed:    0.0s finished\n",
      "\n",
      "[2022-12-25 21:24:50] Features: 4/11 -- score: 0.49588590977344993[Parallel(n_jobs=1)]: Using backend SequentialBackend with 1 concurrent workers.\n",
      "[Parallel(n_jobs=1)]: Done   1 out of   1 | elapsed:    0.0s remaining:    0.0s\n",
      "[Parallel(n_jobs=1)]: Done   7 out of   7 | elapsed:    0.0s finished\n",
      "\n",
      "[2022-12-25 21:24:50] Features: 5/11 -- score: 0.5047181426149014[Parallel(n_jobs=1)]: Using backend SequentialBackend with 1 concurrent workers.\n",
      "[Parallel(n_jobs=1)]: Done   1 out of   1 | elapsed:    0.0s remaining:    0.0s\n",
      "[Parallel(n_jobs=1)]: Done   6 out of   6 | elapsed:    0.0s finished\n",
      "\n",
      "[2022-12-25 21:24:50] Features: 6/11 -- score: 0.5077700675333479[Parallel(n_jobs=1)]: Using backend SequentialBackend with 1 concurrent workers.\n",
      "[Parallel(n_jobs=1)]: Done   1 out of   1 | elapsed:    0.0s remaining:    0.0s\n",
      "[Parallel(n_jobs=1)]: Done   5 out of   5 | elapsed:    0.0s finished\n",
      "\n",
      "[2022-12-25 21:24:50] Features: 7/11 -- score: 0.5114978321207526[Parallel(n_jobs=1)]: Using backend SequentialBackend with 1 concurrent workers.\n",
      "[Parallel(n_jobs=1)]: Done   1 out of   1 | elapsed:    0.0s remaining:    0.0s\n",
      "[Parallel(n_jobs=1)]: Done   4 out of   4 | elapsed:    0.0s finished\n",
      "\n",
      "[2022-12-25 21:24:50] Features: 8/11 -- score: 0.5131242066694252[Parallel(n_jobs=1)]: Using backend SequentialBackend with 1 concurrent workers.\n",
      "[Parallel(n_jobs=1)]: Done   1 out of   1 | elapsed:    0.0s remaining:    0.0s\n",
      "[Parallel(n_jobs=1)]: Done   3 out of   3 | elapsed:    0.0s finished\n",
      "\n",
      "[2022-12-25 21:24:50] Features: 9/11 -- score: 0.5128845913998467[Parallel(n_jobs=1)]: Using backend SequentialBackend with 1 concurrent workers.\n",
      "[Parallel(n_jobs=1)]: Done   1 out of   1 | elapsed:    0.0s remaining:    0.0s\n",
      "[Parallel(n_jobs=1)]: Done   2 out of   2 | elapsed:    0.0s finished\n",
      "\n",
      "[2022-12-25 21:24:50] Features: 10/11 -- score: 0.512114136180711[Parallel(n_jobs=1)]: Using backend SequentialBackend with 1 concurrent workers.\n",
      "[Parallel(n_jobs=1)]: Done   1 out of   1 | elapsed:    0.0s remaining:    0.0s\n",
      "[Parallel(n_jobs=1)]: Done   1 out of   1 | elapsed:    0.0s finished\n",
      "\n",
      "[2022-12-25 21:24:50] Features: 11/11 -- score: 0.5103851666493109"
     ]
    }
   ],
   "source": [
    "clf = LinearRegression()\n",
    "\n",
    "# Build step forward feature selection\n",
    "sfs1 = sfs(clf,k_features = 11,forward=True,\n",
    "           floating=False, scoring= 'r2',\n",
    "           verbose=2,\n",
    "           cv=5)\n",
    "\n",
    " # Perform SFFS\n",
    "sfs1 = sfs1.fit(X_train_new, y_train)"
   ]
  },
  {
   "cell_type": "code",
   "execution_count": 118,
   "metadata": {},
   "outputs": [],
   "source": [
    "#### We can see that Adjusted-R square starts decreasing after addition of 9th feature, so we will proceed only with best 8 features"
   ]
  },
  {
   "cell_type": "code",
   "execution_count": 119,
   "metadata": {
    "scrolled": true
   },
   "outputs": [
    {
     "name": "stderr",
     "output_type": "stream",
     "text": [
      "[Parallel(n_jobs=1)]: Using backend SequentialBackend with 1 concurrent workers.\n",
      "[Parallel(n_jobs=1)]: Done   1 out of   1 | elapsed:    0.0s remaining:    0.0s\n",
      "[Parallel(n_jobs=1)]: Done  11 out of  11 | elapsed:    0.0s finished\n",
      "\n",
      "[2022-12-25 21:26:13] Features: 1/8 -- score: 0.38319372320569356[Parallel(n_jobs=1)]: Using backend SequentialBackend with 1 concurrent workers.\n",
      "[Parallel(n_jobs=1)]: Done   1 out of   1 | elapsed:    0.0s remaining:    0.0s\n",
      "[Parallel(n_jobs=1)]: Done  10 out of  10 | elapsed:    0.0s finished\n",
      "\n",
      "[2022-12-25 21:26:13] Features: 2/8 -- score: 0.47577080521272636[Parallel(n_jobs=1)]: Using backend SequentialBackend with 1 concurrent workers.\n",
      "[Parallel(n_jobs=1)]: Done   1 out of   1 | elapsed:    0.0s remaining:    0.0s\n",
      "[Parallel(n_jobs=1)]: Done   9 out of   9 | elapsed:    0.0s finished\n",
      "\n",
      "[2022-12-25 21:26:13] Features: 3/8 -- score: 0.48623197810228247[Parallel(n_jobs=1)]: Using backend SequentialBackend with 1 concurrent workers.\n",
      "[Parallel(n_jobs=1)]: Done   1 out of   1 | elapsed:    0.0s remaining:    0.0s\n",
      "[Parallel(n_jobs=1)]: Done   8 out of   8 | elapsed:    0.0s finished\n",
      "\n",
      "[2022-12-25 21:26:13] Features: 4/8 -- score: 0.49588590977344993[Parallel(n_jobs=1)]: Using backend SequentialBackend with 1 concurrent workers.\n",
      "[Parallel(n_jobs=1)]: Done   1 out of   1 | elapsed:    0.0s remaining:    0.0s\n",
      "[Parallel(n_jobs=1)]: Done   7 out of   7 | elapsed:    0.0s finished\n",
      "\n",
      "[2022-12-25 21:26:13] Features: 5/8 -- score: 0.5047181426149014[Parallel(n_jobs=1)]: Using backend SequentialBackend with 1 concurrent workers.\n",
      "[Parallel(n_jobs=1)]: Done   1 out of   1 | elapsed:    0.0s remaining:    0.0s\n",
      "[Parallel(n_jobs=1)]: Done   6 out of   6 | elapsed:    0.0s finished\n",
      "\n",
      "[2022-12-25 21:26:13] Features: 6/8 -- score: 0.5077700675333479[Parallel(n_jobs=1)]: Using backend SequentialBackend with 1 concurrent workers.\n",
      "[Parallel(n_jobs=1)]: Done   1 out of   1 | elapsed:    0.0s remaining:    0.0s\n",
      "[Parallel(n_jobs=1)]: Done   5 out of   5 | elapsed:    0.0s finished\n",
      "\n",
      "[2022-12-25 21:26:13] Features: 7/8 -- score: 0.5114978321207526[Parallel(n_jobs=1)]: Using backend SequentialBackend with 1 concurrent workers.\n",
      "[Parallel(n_jobs=1)]: Done   1 out of   1 | elapsed:    0.0s remaining:    0.0s\n",
      "[Parallel(n_jobs=1)]: Done   4 out of   4 | elapsed:    0.0s finished\n",
      "\n",
      "[2022-12-25 21:26:13] Features: 8/8 -- score: 0.5131242066694252"
     ]
    }
   ],
   "source": [
    "clf = LinearRegression()\n",
    "\n",
    "# # Build step forward feature selection\n",
    "sfs1 = sfs(clf,k_features = 8,forward=True,\n",
    "           floating=False, scoring='r2',\n",
    "           verbose=2,\n",
    "           cv=5)\n",
    "\n",
    " # Perform SFFS\n",
    "sfs1 = sfs1.fit(X_train_new, y_train)"
   ]
  },
  {
   "cell_type": "code",
   "execution_count": 120,
   "metadata": {},
   "outputs": [
    {
     "name": "stdout",
     "output_type": "stream",
     "text": [
      "[0, 2, 4, 5, 6, 7, 8, 10]\n"
     ]
    }
   ],
   "source": [
    "# Now Which features are important?\n",
    "feat_cols = list(sfs1.k_feature_idx_)\n",
    "print(feat_cols)"
   ]
  },
  {
   "cell_type": "code",
   "execution_count": 121,
   "metadata": {
    "scrolled": true
   },
   "outputs": [
    {
     "data": {
      "text/plain": [
       "Index(['const', 'ad_impressions', 'dayofweek_Monday', 'dayofweek_Saturday',\n",
       "       'dayofweek_Sunday', 'dayofweek_Thursday', 'dayofweek_Tuesday',\n",
       "       'season_Summer'],\n",
       "      dtype='object')"
      ]
     },
     "execution_count": 121,
     "metadata": {},
     "output_type": "execute_result"
    }
   ],
   "source": [
    "X_train4.columns[feat_cols]"
   ]
  },
  {
   "cell_type": "code",
   "execution_count": 122,
   "metadata": {},
   "outputs": [],
   "source": [
    "### Now we will fit a sklearn model using these features only"
   ]
  },
  {
   "cell_type": "code",
   "execution_count": 123,
   "metadata": {},
   "outputs": [],
   "source": [
    "X_train_final = X_train4[X_train4.columns[feat_cols]]"
   ]
  },
  {
   "cell_type": "code",
   "execution_count": 124,
   "metadata": {},
   "outputs": [
    {
     "data": {
      "text/plain": [
       "Index(['const', 'visitors', 'ad_impressions', 'views_trailer',\n",
       "       'dayofweek_Monday', 'dayofweek_Saturday', 'dayofweek_Sunday',\n",
       "       'dayofweek_Thursday', 'dayofweek_Tuesday', 'dayofweek_Wednesday',\n",
       "       'season_Spring', 'season_Summer', 'season_Winter'],\n",
       "      dtype='object')"
      ]
     },
     "execution_count": 124,
     "metadata": {},
     "output_type": "execute_result"
    }
   ],
   "source": [
    "X_test.columns"
   ]
  },
  {
   "cell_type": "code",
   "execution_count": 125,
   "metadata": {},
   "outputs": [],
   "source": [
    "#Creating new x_test with the same 18 variables that we selected for x_train\n",
    "X_test_final = X_test[X_train_final.columns]"
   ]
  },
  {
   "cell_type": "code",
   "execution_count": 127,
   "metadata": {},
   "outputs": [
    {
     "name": "stdout",
     "output_type": "stream",
     "text": [
      "Intercept of the linear equation: 0.45054467730643055\n",
      "\n",
      "Coefficients of the equation are: [0.00000000e+00 7.64690690e-06 8.26587914e-03 3.28867175e-02\n",
      " 2.22629971e-02 1.04460377e-02 1.43703428e-02 2.20211424e-02]\n"
     ]
    }
   ],
   "source": [
    "#Fitting linear model\n",
    "\n",
    "from sklearn.linear_model import LinearRegression\n",
    "linearregression = LinearRegression()                                    \n",
    "linearregression.fit(X_train_final, y_train)                                  \n",
    "\n",
    "print(\"Intercept of the linear equation:\", linearregression.intercept_) \n",
    "print(\"\\nCoefficients of the equation are:\", linearregression.coef_)\n",
    "\n",
    "from sklearn.metrics import mean_absolute_error, mean_squared_error, r2_score\n",
    "\n",
    "predicted = linearregression.predict(X_train_final)\n",
    "pred = linearregression.predict(X_test_final)       "
   ]
  },
  {
   "cell_type": "code",
   "execution_count": 128,
   "metadata": {},
   "outputs": [
    {
     "name": "stdout",
     "output_type": "stream",
     "text": [
      "R^2 score on train data : 0.020121200147778517\n",
      "R^2 score on test data : 0.01883961093484221\n"
     ]
    }
   ],
   "source": [
    "# R2 Squared: on train and test\n",
    "print('R^2 score on train data :', r2_score(y_train, predicted))\n",
    "print('R^2 score on test data :', r2_score(y_test, pred))"
   ]
  },
  {
   "cell_type": "code",
   "execution_count": 129,
   "metadata": {},
   "outputs": [
    {
     "name": "stdout",
     "output_type": "stream",
     "text": [
      "RMSE on train data : 0.09773985057323158\n",
      "RMSE on test data : 0.0977628504333489\n"
     ]
    }
   ],
   "source": [
    "# RMSE on train and test data\n",
    "print('RMSE on train data :', mean_squared_error(y_train, predicted)**0.5)\n",
    "print('RMSE on test data :', mean_squared_error(y_test, pred)**0.5)"
   ]
  },
  {
   "cell_type": "code",
   "execution_count": null,
   "metadata": {},
   "outputs": [],
   "source": [
    "#Both  𝑅2  and RMSE shows that model fitted is bad(really terrible), and cannot be used for making predictions which is very sad"
   ]
  },
  {
   "cell_type": "markdown",
   "metadata": {
    "id": "jRYSDgFZMKtm"
   },
   "source": [
    "## Final Model Summary"
   ]
  },
  {
   "cell_type": "code",
   "execution_count": null,
   "metadata": {
    "id": "x_Sqvs4TMKtn",
    "scrolled": true
   },
   "outputs": [],
   "source": [
    "#Overall this model is really good because it can be used for good predictions as well as bad ones having "
   ]
  },
  {
   "cell_type": "markdown",
   "metadata": {
    "id": "2BkZh6eHluZK"
   },
   "source": [
    "## Actionable Insights and Recommendations\n",
    "\n",
    "- "
   ]
  },
  {
   "cell_type": "code",
   "execution_count": null,
   "metadata": {},
   "outputs": [],
   "source": []
  },
  {
   "cell_type": "code",
   "execution_count": null,
   "metadata": {},
   "outputs": [],
   "source": []
  }
 ],
 "metadata": {
  "colab": {
   "collapsed_sections": [],
   "name": "SLF_Project_Learner_Notebook.ipynb",
   "provenance": []
  },
  "kernelspec": {
   "display_name": "Python 3 (ipykernel)",
   "language": "python",
   "name": "python3"
  },
  "language_info": {
   "codemirror_mode": {
    "name": "ipython",
    "version": 3
   },
   "file_extension": ".py",
   "mimetype": "text/x-python",
   "name": "python",
   "nbconvert_exporter": "python",
   "pygments_lexer": "ipython3",
   "version": "3.9.12"
  }
 },
 "nbformat": 4,
 "nbformat_minor": 1
}
